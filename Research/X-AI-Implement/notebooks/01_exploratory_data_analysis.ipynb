{
 "cells": [
  {
   "cell_type": "code",
   "execution_count": 1,
   "id": "cf1f63a5",
   "metadata": {},
   "outputs": [],
   "source": [
    "import pandas as pd"
   ]
  },
  {
   "cell_type": "code",
   "execution_count": 42,
   "id": "0f593e2f",
   "metadata": {},
   "outputs": [
    {
     "data": {
      "text/plain": [
       "{'33': 'Regular insulin dose',\n",
       " '34': 'NPH insulin dose',\n",
       " '35': 'UltraLente insulin dose'}"
      ]
     },
     "execution_count": 42,
     "metadata": {},
     "output_type": "execute_result"
    }
   ],
   "source": [
    "code_dict = {\n",
    "    \"Insulin Dose\" : {\n",
    "        \"33\": \"Regular insulin dose\",\n",
    "        \"34\": \"NPH insulin dose\",\n",
    "        \"35\": \"UltraLente insulin dose\"\n",
    "    },\n",
    "    \"Blood Glucose Measurement\": {\n",
    "        \"48\": \"Unspecified blood glucose measurement\",\n",
    "        \"57\": \"Unspecified blood glucose measurement\",\n",
    "        \"58\": \"Pre-breakfast blood glucose measurement\",\n",
    "        \"59\": \"Post-breakfast blood glucose measurement\",\n",
    "        \"60\": \"Pre-lunch blood glucose measurement\",\n",
    "        \"61\": \"Post-lunch blood glucose measurement\",\n",
    "        \"62\": \"Pre-supper blood glucose measurement\",\n",
    "        \"63\": \"Post-supper blood glucose measurement\",\n",
    "        \"64\": \"Pre-snack blood glucose measurement\"\n",
    "    },\n",
    "    \"65\": \"Hypoglycemic symptoms\",\n",
    "    \"66\": \"Typical meal ingestion\",\n",
    "    \"67\": \"More-than-usual meal ingestion\",\n",
    "    \"68\": \"Less-than-usual meal ingestion\",\n",
    "    \"69\": \"Typical exercise activity\",\n",
    "    \"70\": \"More-than-usual exercise activity\",\n",
    "    \"71\": \"Less-than-usual exercise activity\",\n",
    "    \"72\": \"Unspecified special event\"\n",
    "}\n",
    "\n",
    "code_dict[\"Insulin Dose\"]"
   ]
  },
  {
   "cell_type": "code",
   "execution_count": 41,
   "id": "c5d097d8",
   "metadata": {},
   "outputs": [
    {
     "data": {
      "text/html": [
       "<div>\n",
       "<style scoped>\n",
       "    .dataframe tbody tr th:only-of-type {\n",
       "        vertical-align: middle;\n",
       "    }\n",
       "\n",
       "    .dataframe tbody tr th {\n",
       "        vertical-align: top;\n",
       "    }\n",
       "\n",
       "    .dataframe thead th {\n",
       "        text-align: right;\n",
       "    }\n",
       "</style>\n",
       "<table border=\"1\" class=\"dataframe\">\n",
       "  <thead>\n",
       "    <tr style=\"text-align: right;\">\n",
       "      <th></th>\n",
       "      <th>Date</th>\n",
       "      <th>Time</th>\n",
       "      <th>Code</th>\n",
       "      <th>Value</th>\n",
       "    </tr>\n",
       "  </thead>\n",
       "  <tbody>\n",
       "    <tr>\n",
       "      <th>0</th>\n",
       "      <td>04-21-1991</td>\n",
       "      <td>9:09</td>\n",
       "      <td>58</td>\n",
       "      <td>100</td>\n",
       "    </tr>\n",
       "    <tr>\n",
       "      <th>1</th>\n",
       "      <td>04-21-1991</td>\n",
       "      <td>9:09</td>\n",
       "      <td>33</td>\n",
       "      <td>9</td>\n",
       "    </tr>\n",
       "    <tr>\n",
       "      <th>2</th>\n",
       "      <td>04-21-1991</td>\n",
       "      <td>9:09</td>\n",
       "      <td>34</td>\n",
       "      <td>13</td>\n",
       "    </tr>\n",
       "    <tr>\n",
       "      <th>3</th>\n",
       "      <td>04-21-1991</td>\n",
       "      <td>17:08</td>\n",
       "      <td>62</td>\n",
       "      <td>119</td>\n",
       "    </tr>\n",
       "    <tr>\n",
       "      <th>4</th>\n",
       "      <td>04-21-1991</td>\n",
       "      <td>17:08</td>\n",
       "      <td>33</td>\n",
       "      <td>7</td>\n",
       "    </tr>\n",
       "    <tr>\n",
       "      <th>5</th>\n",
       "      <td>04-21-1991</td>\n",
       "      <td>22:51</td>\n",
       "      <td>48</td>\n",
       "      <td>123</td>\n",
       "    </tr>\n",
       "  </tbody>\n",
       "</table>\n",
       "</div>"
      ],
      "text/plain": [
       "         Date   Time  Code  Value\n",
       "0  04-21-1991   9:09    58    100\n",
       "1  04-21-1991   9:09    33      9\n",
       "2  04-21-1991   9:09    34     13\n",
       "3  04-21-1991  17:08    62    119\n",
       "4  04-21-1991  17:08    33      7\n",
       "5  04-21-1991  22:51    48    123"
      ]
     },
     "execution_count": 41,
     "metadata": {},
     "output_type": "execute_result"
    }
   ],
   "source": [
    "column_names = ['Date', 'Time', 'Code', 'Value']\n",
    "df = pd.read_csv(r\"..\\data\\raw-data\\Diabetes-Data\\data-01\",\n",
    "                 sep=\"\\t\",\n",
    "                 header=None,\n",
    "                 names=column_names)\n",
    "df[df['Date'] == '04-21-1991']"
   ]
  },
  {
   "cell_type": "code",
   "execution_count": null,
   "id": "71b21e41",
   "metadata": {},
   "outputs": [],
   "source": []
  }
 ],
 "metadata": {
  "kernelspec": {
   "display_name": "Python (x-ai-research)",
   "language": "python",
   "name": "x-ai-research"
  },
  "language_info": {
   "codemirror_mode": {
    "name": "ipython",
    "version": 3
   },
   "file_extension": ".py",
   "mimetype": "text/x-python",
   "name": "python",
   "nbconvert_exporter": "python",
   "pygments_lexer": "ipython3",
   "version": "3.13.5"
  }
 },
 "nbformat": 4,
 "nbformat_minor": 5
}
