{
 "cells": [
  {
   "cell_type": "markdown",
   "id": "2c284b72",
   "metadata": {},
   "source": [
    "# DSA Problems (1–25)"
   ]
  },
  {
   "cell_type": "code",
   "execution_count": 5,
   "id": "534f482e",
   "metadata": {},
   "outputs": [
    {
     "name": "stdout",
     "output_type": "stream",
     "text": [
      "1\n",
      "4\n"
     ]
    },
    {
     "data": {
      "text/plain": [
       "[1, 2, 3]"
      ]
     },
     "execution_count": 5,
     "metadata": {},
     "output_type": "execute_result"
    }
   ],
   "source": [
    "# 1. Implement a stack using arrays.\n",
    "\"\"\"\n",
    "LIFO: Last in first out\n",
    "\"\"\"\n",
    "stack = [1, 2, 3, 4]\n",
    "stack.append(1)\n",
    "print(stack.pop())\n",
    "print(stack.pop())\n",
    "stack\n"
   ]
  },
  {
   "cell_type": "code",
   "execution_count": 6,
   "id": "9218f84d",
   "metadata": {},
   "outputs": [
    {
     "name": "stdout",
     "output_type": "stream",
     "text": [
      "1\n",
      "2\n"
     ]
    },
    {
     "data": {
      "text/plain": [
       "[3, 4, 1, 5]"
      ]
     },
     "execution_count": 6,
     "metadata": {},
     "output_type": "execute_result"
    }
   ],
   "source": [
    "# 2. Implement a queue using arrays.\n",
    "\"\"\"\n",
    "FIFO: First in first out\n",
    "\"\"\"\n",
    "queue = [1, 2, 3, 4]\n",
    "queue.append(1)\n",
    "queue.append(5)\n",
    "print(queue.pop(0))\n",
    "print(queue.pop(0))\n",
    "queue"
   ]
  },
  {
   "cell_type": "code",
   "execution_count": null,
   "id": "2ac1df4b",
   "metadata": {},
   "outputs": [],
   "source": [
    "# 3. Check for balanced parentheses using a stack.\n"
   ]
  }
 ],
 "metadata": {
  "kernelspec": {
   "display_name": ".venv",
   "language": "python",
   "name": "python3"
  },
  "language_info": {
   "codemirror_mode": {
    "name": "ipython",
    "version": 3
   },
   "file_extension": ".py",
   "mimetype": "text/x-python",
   "name": "python",
   "nbconvert_exporter": "python",
   "pygments_lexer": "ipython3",
   "version": "3.11.0"
  }
 },
 "nbformat": 4,
 "nbformat_minor": 5
}
