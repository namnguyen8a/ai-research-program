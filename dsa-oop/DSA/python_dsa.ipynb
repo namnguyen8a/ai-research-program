{
 "cells": [
  {
   "cell_type": "code",
   "execution_count": null,
   "id": "2b666003",
   "metadata": {},
   "outputs": [
    {
     "name": "stdout",
     "output_type": "stream",
     "text": [
      "1\n"
     ]
    },
    {
     "data": {
      "text/plain": [
       "5"
      ]
     },
     "execution_count": 1,
     "metadata": {},
     "output_type": "execute_result"
    }
   ],
   "source": [
    "# Array, using list in python\n",
    "'''\n",
    "- Tập hợp các phần tử cùng kiểu dữ liệu, lưu trữ liên tục trong bộ nhớ\n",
    "'''\n",
    "arr = [1, 2, 3, 4]\n",
    "print(arr[0])\n",
    "arr.append(5) \n",
    "arr.pop()"
   ]
  },
  {
   "cell_type": "code",
   "execution_count": 11,
   "id": "cdc9cee0",
   "metadata": {},
   "outputs": [
    {
     "name": "stdout",
     "output_type": "stream",
     "text": [
      "[10, 20]\n",
      "20\n"
     ]
    },
    {
     "data": {
      "text/plain": [
       "[10]"
      ]
     },
     "execution_count": 11,
     "metadata": {},
     "output_type": "execute_result"
    }
   ],
   "source": [
    "# Stack\n",
    "'''\n",
    "- Cấu trúc dữ liệu kiểu LIFO (last in first out): vào sau ra trước\n",
    "- Thao tác chính: push (thêm), pop (lấy ra), peak (xem đỉnh)\n",
    "'''\n",
    "\n",
    "# Implement using list\n",
    "stack = []\n",
    "stack.append(10)\n",
    "stack.append(20)\n",
    "stack.pop()\n",
    "\n",
    "# Implement using deque\n",
    "from collections import deque\n",
    "stack1 = deque()\n",
    "stack1.append(10)\n",
    "stack1.append(20)\n",
    "stack1.pop()\n",
    "\n",
    "# Implement using class\n",
    "class Stack:\n",
    "    def __init__(self):\n",
    "        self.stack = []\n",
    "    def push(self, data):\n",
    "        self.stack.append(data)\n",
    "    def pop(self):\n",
    "        if len(self.stack) < 1:\n",
    "            return None\n",
    "        return self.stack.pop()\n",
    "    def get_stack(self):\n",
    "        return self.stack\n",
    "\n",
    "stack_cls = Stack()\n",
    "stack_cls.push(10)\n",
    "stack_cls.push(20)\n",
    "print(stack_cls.get_stack())\n",
    "print(stack_cls.pop())\n",
    "stack_cls.get_stack()\n"
   ]
  },
  {
   "cell_type": "code",
   "execution_count": 14,
   "id": "d858ccf8",
   "metadata": {},
   "outputs": [
    {
     "name": "stdout",
     "output_type": "stream",
     "text": [
      "1\n",
      "[2]\n"
     ]
    }
   ],
   "source": [
    "# Queue\n",
    "'''\n",
    "- Kiểu FIFO (First in First out): vào trước ra trước\n",
    "- Dùng collections.deque để tối ưu hơn list\n",
    "'''\n",
    "# Implement using deque\n",
    "from collections import deque\n",
    "\n",
    "queue = deque()\n",
    "queue.append(1) # Enqueue\n",
    "queue.append(2)\n",
    "queue.popleft()\n",
    "\n",
    "# Implement using list\n",
    "queue1 = []\n",
    "queue1.append(1)\n",
    "queue1.append(2)\n",
    "queue1.pop(0)\n",
    "\n",
    "# Implement using class\n",
    "class Queue:\n",
    "    def __init__(self):\n",
    "        self.queue = []\n",
    "    def enqueue(self, data):\n",
    "        self.queue.append(data)\n",
    "    def dequeue(self):\n",
    "        if len(self.queue) < 1:\n",
    "            return None\n",
    "        return self.queue.pop(0)\n",
    "    def get_queue(self):\n",
    "        return self.queue\n",
    "\n",
    "queue2 = Queue()\n",
    "queue2.enqueue(1)\n",
    "queue2.enqueue(2)\n",
    "print(queue2.dequeue())\n",
    "print(queue2.get_queue())"
   ]
  },
  {
   "cell_type": "code",
   "execution_count": 37,
   "id": "c7aa39d1",
   "metadata": {},
   "outputs": [],
   "source": [
    "# Linked lists"
   ]
  }
 ],
 "metadata": {
  "kernelspec": {
   "display_name": ".venv",
   "language": "python",
   "name": "python3"
  },
  "language_info": {
   "codemirror_mode": {
    "name": "ipython",
    "version": 3
   },
   "file_extension": ".py",
   "mimetype": "text/x-python",
   "name": "python",
   "nbconvert_exporter": "python",
   "pygments_lexer": "ipython3",
   "version": "3.11.0"
  }
 },
 "nbformat": 4,
 "nbformat_minor": 5
}
