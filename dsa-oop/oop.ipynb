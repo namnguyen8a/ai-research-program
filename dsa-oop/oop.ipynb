{
 "cells": [
  {
   "cell_type": "markdown",
   "id": "cb4fe357",
   "metadata": {},
   "source": [
    "# OOPs Problems (26-50)"
   ]
  },
  {
   "cell_type": "code",
   "execution_count": 1,
   "id": "50f830fa",
   "metadata": {},
   "outputs": [
    {
     "name": "stdout",
     "output_type": "stream",
     "text": [
      "250\n"
     ]
    }
   ],
   "source": [
    "# 26. Design a class for a Bank Account with deposit and withdraw methods.\n",
    "\"\"\"\n",
    "balance variable must be private so it can't be access to ensure safety\n",
    "withdraw method must have check condition whether amount > current balance\n",
    "so that it can process \n",
    "\"\"\"\n",
    "class Bank:\n",
    "    def __init__(self, balance):\n",
    "        self.__balance = balance\n",
    "\n",
    "    def get_amount(self):\n",
    "        return self.__balance\n",
    "    \n",
    "    def deposit(self, amount):\n",
    "        self.__balance += amount\n",
    "        return None\n",
    "    \n",
    "    def withdraw(self, amount):\n",
    "        if amount > self.__balance:\n",
    "            return \"Invalid amount\"\n",
    "        self.__balance -= amount\n",
    "        return None\n",
    "\n",
    "bank = Bank(200)\n",
    "bank.deposit(200)\n",
    "bank.withdraw(150)\n",
    "print(bank.get_amount())"
   ]
  },
  {
   "cell_type": "code",
   "execution_count": 2,
   "id": "6a0922ce",
   "metadata": {},
   "outputs": [
    {
     "name": "stdout",
     "output_type": "stream",
     "text": [
      "Drive\n",
      "Drive a car\n",
      "Drive a truck\n",
      "Ride a bike\n"
     ]
    }
   ],
   "source": [
    "# 27. Create a class hierarchy for different types of vehicles (car, truck, bike).\n",
    "class Vehicle:\n",
    "    def drive(self):\n",
    "        return \"Drive\"\n",
    "\n",
    "class Car(Vehicle):\n",
    "    def drive(self):\n",
    "        return \"Drive a car\"\n",
    "\n",
    "class Truck(Vehicle):\n",
    "    def drive(self):\n",
    "        return \"Drive a truck\"\n",
    "\n",
    "class Bike(Vehicle):\n",
    "    def drive(self):\n",
    "        return \"Ride a bike\"\n",
    "\n",
    "v = Vehicle()\n",
    "print(v.drive())  # Drive\n",
    "\n",
    "c = Car()\n",
    "print(c.drive())  # Drive a car\n",
    "\n",
    "t = Truck()\n",
    "print(t.drive())  # Drive a truck\n",
    "\n",
    "b = Bike()\n",
    "print(b.drive())  # Ride a bike"
   ]
  },
  {
   "cell_type": "code",
   "execution_count": 3,
   "id": "e679c536",
   "metadata": {},
   "outputs": [
    {
     "name": "stdout",
     "output_type": "stream",
     "text": [
      "Name: Nam, GPA: 3.7\n"
     ]
    }
   ],
   "source": [
    "# 28. Implement encapsulation with a Student class (using private attributes).\n",
    "class Student:\n",
    "    def __init__(self, name, gpa):\n",
    "        self.name = name\n",
    "        self.__gpa = gpa\n",
    "    \n",
    "    def get_gpa(self):\n",
    "        return self.__gpa\n",
    "    \n",
    "    def get_info(self):\n",
    "        return f\"Name: {self.name}, GPA: {self.__gpa}\"\n",
    "\n",
    "student = Student(\"Nam\", 3.7)\n",
    "print(student.get_info())"
   ]
  },
  {
   "cell_type": "code",
   "execution_count": 7,
   "id": "0ad64c7b",
   "metadata": {},
   "outputs": [
    {
     "name": "stdout",
     "output_type": "stream",
     "text": [
      "35000\n"
     ]
    }
   ],
   "source": [
    "# 29. Create a class Employee and extend it into a Manager class using inheritance.\n",
    "\"\"\"\n",
    "salary is protected attribute so that when inherit, \n",
    "manager class can inherit salary variable\n",
    "\"\"\"\n",
    "\n",
    "class Employee:\n",
    "    def __init__(self, name, salary):\n",
    "        self.name = name\n",
    "        self._salary = salary\n",
    "    \n",
    "    def get_salary(self):\n",
    "        return self._salary\n",
    "\n",
    "class Manager(Employee):\n",
    "    def __init__(self, name, salary, bonus):\n",
    "        super().__init__(name, salary)\n",
    "        self.__bonus = bonus\n",
    "    \n",
    "    def get_salary(self):\n",
    "        return self._salary + self.__bonus\n",
    "\n",
    "manager = Manager(\"Nam\", 20000, 15000)\n",
    "print(manager.get_salary())"
   ]
  },
  {
   "cell_type": "code",
   "execution_count": null,
   "id": "afe7e470",
   "metadata": {},
   "outputs": [
    {
     "name": "stdout",
     "output_type": "stream",
     "text": [
      "Hello Nam - 23 years old. You have a Strong ability\n",
      "Hello Ha - 24 years old. You have a Fast ability\n"
     ]
    }
   ],
   "source": [
    "# 30. Demonstrate method overloading and overriding in Python.\n",
    "class Person:\n",
    "    def __init__(self, name, age):\n",
    "        self.name = name\n",
    "        self.age = age\n",
    "    \n",
    "    def greet(self):\n",
    "        return f\"Hello {self.name} - {self.age} years old\"\n",
    "    \n",
    "class Athlete(Person):\n",
    "    def __init__(self, name, age):\n",
    "        super().__init__(name, age)\n",
    "    \n",
    "    def greet(self, specialtie=\"Strong\"):\n",
    "        return f\"Hello {self.name} - {self.age} years old. You have a {specialtie} ability\"\n",
    "\n",
    "# Overriding: Athlete overrides the greet() method inherited from Person\n",
    "# Overloading: Athlete's greet() accepts an optional 'specialtie' argument (default: \"Strong\")\n",
    "\n",
    "ath1 = Athlete(\"Nam\", 23)\n",
    "print(ath1.greet())\n",
    "\n",
    "ath2 = Athlete(\"Ha\", 24)\n",
    "print(ath2.greet(\"Fast\"))"
   ]
  },
  {
   "cell_type": "code",
   "execution_count": 13,
   "id": "299191c1",
   "metadata": {},
   "outputs": [
    {
     "name": "stdout",
     "output_type": "stream",
     "text": [
      "Pay with credit card\n",
      "Pay with UPI\n"
     ]
    }
   ],
   "source": [
    "# 31. Design an abstract class Payment with subclasses like CreditCard, UPI, etc.\n",
    "from abc import ABC, abstractmethod\n",
    "\n",
    "class Payment(ABC):\n",
    "    @abstractmethod\n",
    "    def make_payment(self):\n",
    "        pass\n",
    "\n",
    "class CreditCard(Payment):\n",
    "    def make_payment(self):\n",
    "        return \"Pay with credit card\"\n",
    "\n",
    "class UPI(Payment):\n",
    "    def make_payment(self):\n",
    "        return \"Pay with UPI\"\n",
    "\n",
    "credit_card = CreditCard()\n",
    "print(credit_card.make_payment())\n",
    "upi = UPI()\n",
    "print(upi.make_payment())"
   ]
  },
  {
   "cell_type": "code",
   "execution_count": 14,
   "id": "d0b7cc68",
   "metadata": {},
   "outputs": [
    {
     "name": "stdout",
     "output_type": "stream",
     "text": [
      "Draw a square\n",
      "Draw a circle\n"
     ]
    }
   ],
   "source": [
    "# 32. Use interfaces (or abstract base classes) to define behavior in a Shape class\n",
    "class Shape(ABC):\n",
    "    @abstractmethod\n",
    "    def draw(self):\n",
    "        pass\n",
    "\n",
    "class Square(Shape):\n",
    "    def draw(self):\n",
    "        return f\"Draw a square\"\n",
    "\n",
    "class Circle(Shape):\n",
    "    def draw(self):\n",
    "        return f\"Draw a circle\"\n",
    "\n",
    "square = Square()\n",
    "circle = Circle()\n",
    "\n",
    "print(square.draw())\n",
    "print(circle.draw())"
   ]
  },
  {
   "cell_type": "code",
   "execution_count": 26,
   "id": "f66c99f5",
   "metadata": {},
   "outputs": [
    {
     "name": "stdout",
     "output_type": "stream",
     "text": [
      "Book: Python - Pages: 200\n",
      "Member: Nam - Age: 20\n"
     ]
    }
   ],
   "source": [
    "# 33. Implement a class for a Library System with Book and Member classes.\n",
    "class Library:\n",
    "    def __init__(self):\n",
    "        self.__book_lst = {}\n",
    "        self.__member_lst = {}\n",
    "    \n",
    "    def add_book(self, book):\n",
    "        self.__book_lst[book.title] = book\n",
    "        return None\n",
    "\n",
    "    def get_book(self, book):\n",
    "        return self.__book_lst.get(book.title, \"Invalid book\")\n",
    "    \n",
    "    def add_member(self, member):\n",
    "        self.__member_lst[member.name] = member\n",
    "        return None\n",
    "    \n",
    "    def get_member(self, member):\n",
    "        return self.__member_lst.get(member.name, \"Invalid member\")\n",
    "    \n",
    "    def get_all(self):\n",
    "        return self.__book_lst, self.__member_lst\n",
    "\n",
    "class Book:\n",
    "    def __init__(self, title, pages):\n",
    "        self.title = title\n",
    "        self.pages = pages\n",
    "    \n",
    "    def __str__(self):\n",
    "        return f\"Book: {self.title} - Pages: {self.pages}\"\n",
    "    \n",
    "class Member:\n",
    "    def __init__(self, name, age):\n",
    "        self.name = name\n",
    "        self.age = age\n",
    "    \n",
    "    def __str__(self):\n",
    "        return f\"Member: {self.name} - Age: {self.age}\"\n",
    "\n",
    "book = Book(\"Python\", 200)\n",
    "member = Member(\"Nam\", 20)\n",
    "\n",
    "lib = Library()\n",
    "lib.add_book(book)\n",
    "lib.add_member(member)\n",
    "print(str(lib.get_book(book)))\n",
    "print(str(lib.get_member(member)))\n",
    "\n"
   ]
  },
  {
   "cell_type": "code",
   "execution_count": 27,
   "id": "51faa451",
   "metadata": {},
   "outputs": [
    {
     "name": "stdout",
     "output_type": "stream",
     "text": [
      "Read file....\n",
      "Load file....\n"
     ]
    }
   ],
   "source": [
    "# 34. Demonstrate multiple inheritance using mixins or interfaces.\n",
    "from abc import ABC, abstractmethod\n",
    "\n",
    "class Reader(ABC):\n",
    "    @abstractmethod\n",
    "    def read_file(self):\n",
    "        pass\n",
    "\n",
    "class Loader(ABC):\n",
    "    @abstractmethod\n",
    "    def load_file(self):\n",
    "        pass\n",
    "\n",
    "class File(Reader, Loader):\n",
    "    def read_file(self):\n",
    "        return \"Read file....\"\n",
    "    \n",
    "    def load_file(self):\n",
    "        return \"Load file....\"\n",
    "\n",
    "file = File()\n",
    "print(file.read_file())\n",
    "print(file.load_file())"
   ]
  },
  {
   "cell_type": "code",
   "execution_count": null,
   "id": "622da46e",
   "metadata": {},
   "outputs": [
    {
     "name": "stdout",
     "output_type": "stream",
     "text": [
      "5\n",
      "100\n"
     ]
    }
   ],
   "source": [
    "# 35. Implement a class with static members and static methods.\n",
    "class Example:\n",
    "    value = 100 # static members\n",
    "    \n",
    "    @staticmethod\n",
    "    def add(x, y): # static method\n",
    "        return x+y\n",
    "\n",
    "print(Example.add(2, 3))\n",
    "print(Example.value)"
   ]
  },
  {
   "cell_type": "code",
   "execution_count": null,
   "id": "11fc6649",
   "metadata": {},
   "outputs": [
    {
     "data": {
      "text/plain": [
       "'Toyota Engine start ...'"
      ]
     },
     "execution_count": 30,
     "metadata": {},
     "output_type": "execute_result"
    }
   ],
   "source": [
    "# 36. Write a program using composition vs inheritance (e.g., Car has an Engine).\n",
    "class Engine:\n",
    "    def start(self):\n",
    "        return \"Engine start ...\"\n",
    "\n",
    "class Car:\n",
    "    def __init__(self, name):\n",
    "        self.name = name\n",
    "        self.engine = Engine() # Car has an engine (composition)\n",
    "    \n",
    "    def start(self):\n",
    "        return f\"{self.name} {self.engine.start()}\"\n",
    "\n",
    "car = Car(\"Toyota\")\n",
    "car.start()\n"
   ]
  },
  {
   "cell_type": "code",
   "execution_count": 32,
   "id": "4d916231",
   "metadata": {},
   "outputs": [
    {
     "name": "stdout",
     "output_type": "stream",
     "text": [
      "2310038217168\n",
      "2310038217168\n",
      "True\n"
     ]
    }
   ],
   "source": [
    "# 37. Implement a Singleton design pattern in Python.\n",
    "\"\"\"\n",
    "A class has only one instance, and provides a global access point to that instance.\n",
    "\n",
    "\"\"\"\n",
    "class Singleton:\n",
    "    _instance = None\n",
    "\n",
    "    def __new__(cls):\n",
    "        if cls._instance is None:\n",
    "            cls._instance = super().__new__(cls)\n",
    "        return cls._instance\n",
    "\n",
    "s1 = Singleton()\n",
    "s2 = Singleton()\n",
    "\n",
    "print(id(s1))\n",
    "print(id(s2))\n",
    "print(s1 == s2)"
   ]
  },
  {
   "cell_type": "code",
   "execution_count": null,
   "id": "ea9481d2",
   "metadata": {},
   "outputs": [
    {
     "data": {
      "text/plain": [
       "'Python'"
      ]
     },
     "execution_count": 34,
     "metadata": {},
     "output_type": "execute_result"
    }
   ],
   "source": [
    "import copy\n",
    "\n",
    "# 38. Create a class with a copy constructor equivalent in Python.\n",
    "class Book:\n",
    "    def __init__(self, title):\n",
    "        self.title = title\n",
    "\n",
    "book = Book(\"Python\")\n",
    "book2 = copy.copy(book)\n",
    "print(book2.title)"
   ]
  },
  {
   "cell_type": "code",
   "execution_count": 36,
   "id": "ba1a102e",
   "metadata": {},
   "outputs": [
    {
     "data": {
      "text/plain": [
       "'NamAnh'"
      ]
     },
     "execution_count": 36,
     "metadata": {},
     "output_type": "execute_result"
    }
   ],
   "source": [
    "# 39. Implement operator overloading for custom addition (e.g., __add__).\n",
    "class Person:\n",
    "    def __init__(self, name):\n",
    "        self.name = name\n",
    "\n",
    "    def __add__(self, person):\n",
    "        return Person(self.name + person.name)\n",
    "\n",
    "p1 = Person(\"Nam\")\n",
    "p2 = Person(\"Anh\")\n",
    "p3 = p1 + p2\n",
    "p3.name"
   ]
  },
  {
   "cell_type": "code",
   "execution_count": 40,
   "id": "df737c9b",
   "metadata": {},
   "outputs": [
    {
     "name": "stdout",
     "output_type": "stream",
     "text": [
      "['Book', 'Pen']\n"
     ]
    },
    {
     "data": {
      "text/plain": [
       "['Pen']"
      ]
     },
     "execution_count": 40,
     "metadata": {},
     "output_type": "execute_result"
    }
   ],
   "source": [
    "# 40. Simulate a simple e-commerce cart system with add_item() and remove_item() methods.\n",
    "class ECommerce:\n",
    "    def __init__(self):\n",
    "        self.__cart = []\n",
    "    \n",
    "    def add_item(self, item):\n",
    "        self.__cart.append(item)\n",
    "        return None\n",
    "    \n",
    "    def remove_item(self, item):\n",
    "        self.__cart.remove(item)\n",
    "        return None\n",
    "    \n",
    "    def get_cart(self):\n",
    "        return self.__cart\n",
    "\n",
    "ec = ECommerce()\n",
    "ec.add_item(\"Book\")\n",
    "ec.add_item(\"Pen\")\n",
    "print(ec.get_cart())\n",
    "ec.remove_item(\"Book\")\n",
    "ec.get_cart()"
   ]
  },
  {
   "cell_type": "code",
   "execution_count": 45,
   "id": "25dc13e7",
   "metadata": {},
   "outputs": [
    {
     "name": "stdout",
     "output_type": "stream",
     "text": [
      "You're not login\n"
     ]
    },
    {
     "data": {
      "text/plain": [
       "1500"
      ]
     },
     "execution_count": 45,
     "metadata": {},
     "output_type": "execute_result"
    }
   ],
   "source": [
    "# 41. Demonstrate the use of public, private, and protected members.\n",
    "class BankAccount:\n",
    "    is_login = False\n",
    "\n",
    "    def __init__(self, name, account, balance):\n",
    "        self.name = name\n",
    "        self._account = account\n",
    "        self.__balance = balance\n",
    "    \n",
    "    def login(self, account):\n",
    "        if self._account == account:\n",
    "            self.is_login = True\n",
    "            return \"Login Successful!\"\n",
    "        return \"Invalid Account!\"\n",
    "\n",
    "    def add_balance(self, amount):\n",
    "        if self.is_login:\n",
    "            if amount > self.__balance:\n",
    "                return \"Invalid amount\"\n",
    "            self.__balance += amount\n",
    "            return \"Add balance successful\"\n",
    "        return \"You're not login\"\n",
    "\n",
    "    def check_balance(self):\n",
    "        if self.is_login:\n",
    "            return self.__balance\n",
    "        return \"You're not login\"\n",
    "\n",
    "bank_acc = BankAccount(\"Nam\", \"namnguyen\", 1000)\n",
    "print(bank_acc.check_balance())\n",
    "bank_acc.login(\"namnguyen\")\n",
    "bank_acc.add_balance(500)\n",
    "bank_acc.check_balance()\n"
   ]
  },
  {
   "cell_type": "code",
   "execution_count": 48,
   "id": "23736aed",
   "metadata": {},
   "outputs": [
    {
     "name": "stdout",
     "output_type": "stream",
     "text": [
      "Attacking...\n"
     ]
    },
    {
     "data": {
      "text/plain": [
       "\"You conceed 201 hp, your current hp is -1 -> you're die\""
      ]
     },
     "execution_count": 48,
     "metadata": {},
     "output_type": "execute_result"
    }
   ],
   "source": [
    "# 42. Create a game character class with attack and defend methods.\n",
    "class Character:\n",
    "    def __init__(self, name, hp):\n",
    "        self.name = name\n",
    "        self.hp = hp\n",
    "    \n",
    "    def attack(self):\n",
    "        return \"Attacking...\"\n",
    "\n",
    "    def defend(self, hp_conceed):\n",
    "        if hp_conceed > self.hp:\n",
    "            return f\"You conceed {hp_conceed} hp, your current hp is {self.hp-hp_conceed} -> you're die\"\n",
    "        self.hp -= hp_conceed\n",
    "        return f\"Your current hp is {self.hp}\"\n",
    "\n",
    "cha = Character(\"DragonBall\", 200)\n",
    "print(cha.attack())\n",
    "cha.defend(201) "
   ]
  },
  {
   "cell_type": "code",
   "execution_count": 51,
   "id": "0422803a",
   "metadata": {},
   "outputs": [
    {
     "name": "stdout",
     "output_type": "stream",
     "text": [
      "You're currently listen to Sad 0\n",
      "You're currently listen to Sad 1\n",
      "You're currently listen to Sad 2\n",
      "You're currently listen to Sad 1\n",
      "\t\tPlay list: Sad Music\n",
      "{0: 'Sad 0', 1: 'Sad 1', 2: 'Sad 2'}\n"
     ]
    }
   ],
   "source": [
    "# 43. Implement a class to manage a playlist (songs, next, previous).\n",
    "class Playlist:\n",
    "    __add_cursor = 0\n",
    "    __play_cursor = 0\n",
    "    \n",
    "    def __init__(self, name):\n",
    "        self.name = name\n",
    "        self.__songs = {}\n",
    "\n",
    "    def add_song(self, song_name):\n",
    "        self.__songs[self.__add_cursor] = song_name\n",
    "        self.__add_cursor += 1\n",
    "        return \"Add song successful!\"\n",
    "    \n",
    "    def start_song(self):\n",
    "        song_name = self.__songs.get(self.__play_cursor)\n",
    "        return f\"You're currently listen to {song_name}\"\n",
    "    \n",
    "    def next(self):\n",
    "        self.__play_cursor += 1\n",
    "        song_name = self.__songs.get(self.__play_cursor)\n",
    "        return f\"You're currently listen to {song_name}\"\n",
    "    \n",
    "    def previous(self):\n",
    "        if self.__play_cursor < 0:\n",
    "            return \"You do not have any previous song to listen\"\n",
    "        self.__play_cursor -= 1\n",
    "        song_name = self.__songs.get(self.__play_cursor)\n",
    "        return f\"You're currently listen to {song_name}\"\n",
    "    \n",
    "    def get_playlist(self):\n",
    "        return f\"\\t\\tPlay list: {self.name}\\n{self.__songs}\"\n",
    "\n",
    "playlist = Playlist(\"Sad Music\")\n",
    "playlist.add_song(\"Sad 0\")\n",
    "playlist.add_song(\"Sad 1\")\n",
    "playlist.add_song(\"Sad 2\")\n",
    "print(playlist.start_song())\n",
    "print(playlist.next())\n",
    "print(playlist.next())\n",
    "print(playlist.previous())\n",
    "print(playlist.get_playlist())"
   ]
  },
  {
   "cell_type": "code",
   "execution_count": null,
   "id": "824155d8",
   "metadata": {},
   "outputs": [
    {
     "name": "stdout",
     "output_type": "stream",
     "text": [
      "Task Name: Do Homework - Priority: Low\n",
      "Task Name: Learn English - Priority: Medium\n",
      "Task Name: Do Exercises - Priority: High\n"
     ]
    }
   ],
   "source": [
    "# 44. Build a task scheduler class with priorities.\n",
    "\n",
    "class Task:\n",
    "    PRIORITY_MAP = {\"Low\": 1, \"Medium\": 2, \"High\": 3}\n",
    "\n",
    "    def __init__(self, task_name, priority):\n",
    "        self.task_name = task_name\n",
    "        self.priority = priority\n",
    "        self.priority_value = Task.PRIORITY_MAP.get(priority, 1)\n",
    "\n",
    "    def __str__(self):\n",
    "        return f\"Task Name: {self.task_name} - Priority: {self.priority}\"\n",
    "\n",
    "class TaskScheduler:\n",
    "    def __init__(self):\n",
    "        self.__task_list = []\n",
    "\n",
    "    def add_task(self, task):\n",
    "        self.__task_list.append(task)\n",
    "        return f\"Added {task.task_name} with {task.priority} priority\"\n",
    "\n",
    "    def remove_task(self, task):\n",
    "        for t in self.__task_list:\n",
    "            if t.task_name == task.task_name:\n",
    "                self.__task_list.remove(t)\n",
    "                return f\"Removed {task.task_name}\"\n",
    "        return \"Task not found\"\n",
    "\n",
    "    def get_tasks(self):\n",
    "        return sorted(self.__task_list, key=lambda task: task.priority_value)\n",
    "\n",
    "task1 = Task(\"Do Homework\", \"Low\")\n",
    "task2 = Task(\"Learn English\", \"Medium\")\n",
    "task3 = Task(\"Do Exercises\", \"High\")\n",
    "\n",
    "scheduler = TaskScheduler()\n",
    "scheduler.add_task(task1)\n",
    "scheduler.add_task(task2)\n",
    "scheduler.add_task(task3)\n",
    "\n",
    "for task in scheduler.get_tasks():\n",
    "    print(task)\n"
   ]
  },
  {
   "cell_type": "code",
   "execution_count": 60,
   "id": "1c4903a4",
   "metadata": {},
   "outputs": [
    {
     "name": "stdout",
     "output_type": "stream",
     "text": [
      "Swimming...\n",
      "Flying...\n",
      "Roaring...\n"
     ]
    }
   ],
   "source": [
    "# 45. Model a Zoo with animal classes and behaviors using polymorphism.\n",
    "class Animal(ABC):\n",
    "    @abstractmethod\n",
    "    def behaviour(self):\n",
    "        pass\n",
    "\n",
    "class Fish(Animal):\n",
    "    def behaviour(self):\n",
    "        return \"Swimming...\"\n",
    "\n",
    "class Bird(Animal):\n",
    "    def behaviour(self):\n",
    "        return \"Flying...\"\n",
    "\n",
    "class Tiger(Animal):\n",
    "    def behaviour(self):\n",
    "        return \"Roaring...\"\n",
    "\n",
    "class Zoo:\n",
    "    def __init__(self):\n",
    "        self.__animal_list = []\n",
    "    \n",
    "    def add_animal(self, animal):\n",
    "        self.__animal_list.append(animal)\n",
    "        return \"Add animal successful\"\n",
    "    \n",
    "    def get_animals(self):\n",
    "        return self.__animal_list\n",
    "\n",
    "fish = Fish()\n",
    "bird = Bird()\n",
    "tiger = Tiger()\n",
    "\n",
    "zoo = Zoo()\n",
    "zoo.add_animal(fish)\n",
    "zoo.add_animal(bird)\n",
    "zoo.add_animal(tiger)\n",
    "for animal in zoo.get_animals():\n",
    "    print(animal.behaviour())"
   ]
  },
  {
   "cell_type": "code",
   "execution_count": 63,
   "id": "d9b8ba4b",
   "metadata": {},
   "outputs": [
    {
     "name": "stdout",
     "output_type": "stream",
     "text": [
      "Department: Math\n",
      "Department: English\n",
      "Professor: John\n",
      "Professor: Emily\n"
     ]
    }
   ],
   "source": [
    "# 46. Design a University system with departments and professors.\n",
    "class Department:\n",
    "    def __init__(self, department):\n",
    "        self.__department = department\n",
    "    \n",
    "    def get_department(self):\n",
    "        return self.__department\n",
    "    \n",
    "    def __str__(self):\n",
    "        return f\"Department: {self.__department}\"\n",
    "\n",
    "class Professor:\n",
    "    def __init__(self, name):\n",
    "        self.__name = name\n",
    "    \n",
    "    def get_name(self):\n",
    "        return self.__name\n",
    "\n",
    "    def __str__(self):\n",
    "        return f\"Professor: {self.__name}\"\n",
    "\n",
    "class University:\n",
    "    def __init__(self, name):\n",
    "        self.name = name\n",
    "        self.__departments = []\n",
    "        self.__professors = []\n",
    "\n",
    "    def add_department(self, department):\n",
    "        self.__departments.append(department)\n",
    "        return \"Add department successfully\"\n",
    "    \n",
    "    def add_professor(self, professor):\n",
    "        self.__professors.append(professor)\n",
    "        return \"Add professor successfully\"\n",
    "    \n",
    "    def get_all(self):\n",
    "        for d in self.__departments:\n",
    "            print(d)\n",
    "        for p in self.__professors:\n",
    "            print(p)\n",
    "\n",
    "\n",
    "depart1 = Department(\"Math\")\n",
    "depart2 = Department(\"English\")\n",
    "profess1 = Professor(\"John\")\n",
    "profess2 = Professor(\"Emily\")\n",
    "\n",
    "uni = University(\"Havard\")\n",
    "uni.add_department(depart1)\n",
    "uni.add_department(depart2)\n",
    "uni.add_professor(profess1)\n",
    "uni.add_professor(profess2)\n",
    "uni.get_all()"
   ]
  },
  {
   "cell_type": "code",
   "execution_count": 64,
   "id": "0c150d54",
   "metadata": {},
   "outputs": [
    {
     "name": "stdout",
     "output_type": "stream",
     "text": [
      "Course name: Math\n",
      "Course name: English\n",
      "Course name: PE\n"
     ]
    }
   ],
   "source": [
    "# 47. Create a class for an online course registration system\n",
    "class Course:\n",
    "    def __init__(self, name):\n",
    "        self.name = name\n",
    "    \n",
    "    def __str__(self):\n",
    "        return f\"Course name: {self.name}\"\n",
    "\n",
    "class Registration:\n",
    "    def __init__(self):\n",
    "        self.__course_list = []\n",
    "    \n",
    "    def add_course(self, course):\n",
    "        self.__course_list.append(course)\n",
    "    \n",
    "    def get_courses(self):\n",
    "        for c in self.__course_list:\n",
    "            print(c)\n",
    "\n",
    "c1 = Course(\"Math\")\n",
    "c2 = Course(\"English\")\n",
    "c3 = Course(\"PE\")\n",
    "registration = Registration()\n",
    "registration.add_course(c1)\n",
    "registration.add_course(c2)\n",
    "registration.add_course(c3)\n",
    "registration.get_courses()"
   ]
  },
  {
   "cell_type": "code",
   "execution_count": null,
   "id": "be187d6b",
   "metadata": {},
   "outputs": [
    {
     "name": "stdout",
     "output_type": "stream",
     "text": [
      "Guest: Nam - Age: 24\n",
      "Guest: John - Age: 25\n"
     ]
    }
   ],
   "source": [
    "# 48. Build a hotel reservation system with rooms and guests\n",
    "\"\"\"\n",
    "__resered_dict use static variable to store shared value \n",
    "\"\"\"\n",
    "class Room:\n",
    "    def __init__(self, room_no):\n",
    "        self.room_no = room_no\n",
    "\n",
    "class Guest:\n",
    "    def __init__(self, name, age, identity):\n",
    "        self.name = name\n",
    "        self.age = age\n",
    "        self.__identity = identity\n",
    "\n",
    "    def __str__(self):\n",
    "        return f\"Guest: {self.name} - Age: {self.age}\"\n",
    "\n",
    "class Reservation:\n",
    "    __resered_dict = {}  \n",
    "\n",
    "    def __init__(self, room, guest):\n",
    "        self.__room = room\n",
    "        self.__guest = guest\n",
    "\n",
    "    def reserved(self):\n",
    "        Reservation.__resered_dict[self.__room.room_no] = self.__guest\n",
    "\n",
    "    def get_info(self, room_no):\n",
    "        return Reservation.__resered_dict.get(room_no, \"Invalid room number\")\n",
    "\n",
    "\n",
    "room1 = Room(\"A1\")\n",
    "room2 = Room(\"A2\")\n",
    "guest1 = Guest(\"Nam\", 24, \"22ABC\")\n",
    "guest2 = Guest(\"John\", 25, \"23KCH\")\n",
    "\n",
    "reserved1 = Reservation(room1, guest1)\n",
    "reserved1.reserved()\n",
    "reserved2 = Reservation(room2, guest2)\n",
    "reserved2.reserved()\n",
    "\n",
    "\n",
    "reserved1.get_info(\"A1\")\n",
    "reserved2.get_info(\"A2\")"
   ]
  },
  {
   "cell_type": "code",
   "execution_count": 74,
   "id": "21fd1afa",
   "metadata": {},
   "outputs": [
    {
     "name": "stdout",
     "output_type": "stream",
     "text": [
      "[[0, 0], [0, 0], [0, 0], [0, 0]]\n"
     ]
    }
   ],
   "source": [
    "array1 = [[0 for _ in range(2)] for _ in range(4)]\n",
    "print(array1)\n"
   ]
  },
  {
   "cell_type": "code",
   "execution_count": 80,
   "id": "2625e28e",
   "metadata": {},
   "outputs": [
    {
     "name": "stdout",
     "output_type": "stream",
     "text": [
      "This place already mask\n",
      "Invalid coordinate\n"
     ]
    },
    {
     "data": {
      "text/plain": [
       "[[1, 0, 1], [0, 1, 0], [-1, -1, -1]]"
      ]
     },
     "execution_count": 80,
     "metadata": {},
     "output_type": "execute_result"
    }
   ],
   "source": [
    "# 49. Write a class-based solution for the Tic-Tac-Toe game.\n",
    "class Grid:\n",
    "    def __init__(self):\n",
    "        self.__grid = [[-1 for _ in range(3)] for _ in range(3)]\n",
    "    \n",
    "    def add_x(self, row, col):\n",
    "        if 0 <= row <= 2 and 0 <= col <= 2:\n",
    "            if self.__grid[row][col] == -1:\n",
    "                self.__grid[row][col] = 1\n",
    "            else:\n",
    "                return \"This place already mask\"\n",
    "        return \"Invalid coordinate\"\n",
    "    \n",
    "    def add_o(self, row, col):\n",
    "        if 0 <= row <= 2 and 0 <= col <= 2:\n",
    "            if self.__grid[row][col] == -1:\n",
    "                self.__grid[row][col] = 0\n",
    "            else:\n",
    "                return \"This place already mask\"\n",
    "        return \"Invalid coordinate\"\n",
    "    \n",
    "    def get_grid(self):\n",
    "        return self.__grid\n",
    "\n",
    "grid = Grid()\n",
    "grid.add_x(0, 0)\n",
    "grid.add_o(0, 1)\n",
    "grid.add_x(0, 2)\n",
    "grid.add_o(1, 0)\n",
    "grid.add_x(1, 1)\n",
    "grid.add_o(1, 2)\n",
    "print(grid.add_x(1, 2))\n",
    "print(grid.add_x(2, 3))\n",
    "grid.get_grid()\n"
   ]
  },
  {
   "cell_type": "code",
   "execution_count": 81,
   "id": "f4795854",
   "metadata": {},
   "outputs": [
    {
     "name": "stdout",
     "output_type": "stream",
     "text": [
      "Vehicle: Toyota (C01), Duration: 5h, Total Rent: $150\n",
      "Vehicle: Yamaha (B01), Duration: 3h, Total Rent: $15\n",
      "Vehicle: Volvo (T01), Duration: 2h, Total Rent: $200\n"
     ]
    }
   ],
   "source": [
    "# 50. Design a vehicle rental system with inheritance and polymorphism.\n",
    "class Vehicle(ABC):\n",
    "    def __init__(self, vehicle_id, brand, rental_rate):\n",
    "        self.vehicle_id = vehicle_id\n",
    "        self.brand = brand\n",
    "        self.rental_rate = rental_rate  # base rate per hour\n",
    "\n",
    "    @abstractmethod\n",
    "    def calculate_rent(self, duration):\n",
    "        pass\n",
    "\n",
    "    def __str__(self):\n",
    "        return f\"{self.brand} ({self.vehicle_id})\"\n",
    "\n",
    "\n",
    "class Car(Vehicle):\n",
    "    def calculate_rent(self, duration):\n",
    "        return duration * self.rental_rate + 50  # flat service fee\n",
    "\n",
    "\n",
    "class Bike(Vehicle):\n",
    "    def calculate_rent(self, duration):\n",
    "        return duration * self.rental_rate  # no extra fees\n",
    "\n",
    "\n",
    "class Truck(Vehicle):\n",
    "    def calculate_rent(self, duration):\n",
    "        return duration * self.rental_rate + 100  # higher flat fee\n",
    "\n",
    "\n",
    "class RentalSystem:\n",
    "    def __init__(self):\n",
    "        self.vehicles = {}\n",
    "\n",
    "    def add_vehicle(self, vehicle):\n",
    "        self.vehicles[vehicle.vehicle_id] = vehicle\n",
    "\n",
    "    def rent_vehicle(self, vehicle_id, duration):\n",
    "        vehicle = self.vehicles.get(vehicle_id)\n",
    "        if not vehicle:\n",
    "            return \"Vehicle not found\"\n",
    "        cost = vehicle.calculate_rent(duration)\n",
    "        return f\"Vehicle: {vehicle}, Duration: {duration}h, Total Rent: ${cost}\"\n",
    "\n",
    "\n",
    "car = Car(\"C01\", \"Toyota\", 20)\n",
    "bike = Bike(\"B01\", \"Yamaha\", 5)\n",
    "truck = Truck(\"T01\", \"Volvo\", 50)\n",
    "\n",
    "system = RentalSystem()\n",
    "system.add_vehicle(car)\n",
    "system.add_vehicle(bike)\n",
    "system.add_vehicle(truck)\n",
    "\n",
    "print(system.rent_vehicle(\"C01\", 5))   \n",
    "print(system.rent_vehicle(\"B01\", 3))   \n",
    "print(system.rent_vehicle(\"T01\", 2))   \n"
   ]
  }
 ],
 "metadata": {
  "kernelspec": {
   "display_name": ".venv",
   "language": "python",
   "name": "python3"
  },
  "language_info": {
   "codemirror_mode": {
    "name": "ipython",
    "version": 3
   },
   "file_extension": ".py",
   "mimetype": "text/x-python",
   "name": "python",
   "nbconvert_exporter": "python",
   "pygments_lexer": "ipython3",
   "version": "3.11.0"
  }
 },
 "nbformat": 4,
 "nbformat_minor": 5
}
