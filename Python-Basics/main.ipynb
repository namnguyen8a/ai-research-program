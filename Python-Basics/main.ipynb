{
 "cells": [
  {
   "cell_type": "markdown",
   "id": "2ea4469b",
   "metadata": {},
   "source": [
    "# Variable & Data Types (1-10)"
   ]
  },
  {
   "cell_type": "code",
   "execution_count": 3,
   "id": "5ceb6d7d",
   "metadata": {},
   "outputs": [
    {
     "name": "stdout",
     "output_type": "stream",
     "text": [
      "Integer variable: 1\n",
      "Float variable: 1.0\n",
      "String variable: python\n"
     ]
    }
   ],
   "source": [
    "# 1. Write a program to assign and print different data types.\n",
    "\"\"\"\n",
    "\n",
    "\"\"\"\n",
    "int_variable = 1\n",
    "float_variable = 1.0\n",
    "string_variable = \"python\"\n",
    "\n",
    "print(f\"Integer variable: {int_variable}\")\n",
    "print(f\"Float variable: {float_variable}\")\n",
    "print(f\"String variable: {string_variable}\")"
   ]
  }
 ],
 "metadata": {
  "kernelspec": {
   "display_name": ".venv",
   "language": "python",
   "name": "python3"
  },
  "language_info": {
   "codemirror_mode": {
    "name": "ipython",
    "version": 3
   },
   "file_extension": ".py",
   "mimetype": "text/x-python",
   "name": "python",
   "nbconvert_exporter": "python",
   "pygments_lexer": "ipython3",
   "version": "3.11.0"
  }
 },
 "nbformat": 4,
 "nbformat_minor": 5
}
