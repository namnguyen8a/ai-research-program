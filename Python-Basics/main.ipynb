{
 "cells": [
  {
   "cell_type": "markdown",
   "id": "2ea4469b",
   "metadata": {},
   "source": [
    "# Variable & Data Types (1-10)"
   ]
  },
  {
   "cell_type": "code",
   "execution_count": 2,
   "id": "5ceb6d7d",
   "metadata": {},
   "outputs": [
    {
     "name": "stdout",
     "output_type": "stream",
     "text": [
      "Integer variable: 1\n",
      "Float variable: 1.0\n",
      "String variable: python\n",
      "Boolean variable: True\n"
     ]
    }
   ],
   "source": [
    "# 1. Write a program to assign and print different data types.\n",
    "\n",
    "int_variable = 1\n",
    "float_variable = 1.0\n",
    "string_variable = \"python\"\n",
    "bool_variable = True\n",
    "\n",
    "print(f\"Integer variable: {int_variable}\")\n",
    "print(f\"Float variable: {float_variable}\")\n",
    "print(f\"String variable: {string_variable}\")\n",
    "print(f\"Boolean variable: {bool_variable}\")"
   ]
  },
  {
   "cell_type": "code",
   "execution_count": null,
   "id": "eabfc6df",
   "metadata": {},
   "outputs": [
    {
     "name": "stdout",
     "output_type": "stream",
     "text": [
      "Before swap, a = 2, b = 3\n",
      "After swap: a = 3, b = 2\n"
     ]
    }
   ],
   "source": [
    "# 2. Swap two variables without using a third variable.\n",
    "\n",
    "a = 2\n",
    "b = 3\n",
    "\n",
    "print(f\"Before swap: a = {a}, b = {b}\")\n",
    "\n",
    "a, b = b, a\n",
    "\n",
    "print(f\"After swap: a = {a}, b = {b}\")\n"
   ]
  },
  {
   "cell_type": "code",
   "execution_count": 6,
   "id": "fd3d89ac",
   "metadata": {},
   "outputs": [
    {
     "name": "stdout",
     "output_type": "stream",
     "text": [
      "Data type of variable a using type() is: <class 'str'>\n"
     ]
    }
   ],
   "source": [
    "# 3. Check the data type of a variable using type().\n",
    "\n",
    "a = \"hello\"\n",
    "type_var_a = type(a)\n",
    "\n",
    "print(f\"Data type of variable a using type() is: {type_var_a}\")"
   ]
  },
  {
   "cell_type": "code",
   "execution_count": 7,
   "id": "4d6d8a10",
   "metadata": {},
   "outputs": [
    {
     "name": "stdout",
     "output_type": "stream",
     "text": [
      "Hey\n"
     ]
    }
   ],
   "source": [
    "# 4. Take input from the user and print it.\n",
    "\n",
    "user_input = input(\"Input something: \")\n",
    "print(user_input)"
   ]
  },
  {
   "cell_type": "code",
   "execution_count": 10,
   "id": "eb3324ff",
   "metadata": {},
   "outputs": [
    {
     "name": "stdout",
     "output_type": "stream",
     "text": [
      "Convert string to int, 2: <class 'str'> -> 2: <class 'int'>\n",
      "Convert string to float, 2: <class 'str'> -> 2.0: <class 'float'>\n",
      "Convert int to string, 2: <class 'int'> -> 2: <class 'str'>\n",
      "Convert float to string, 2.0: <class 'float'> -> 2.0: <class 'str'>\n"
     ]
    }
   ],
   "source": [
    "# 5. Convert string to int, float and back.\n",
    "str_a = \"2\"\n",
    "int_b = 2\n",
    "float_c = 2.0\n",
    "\n",
    "int_a = int(str_a)\n",
    "float_a = float(str_a)\n",
    "str_b = str(int_b)\n",
    "str_c = str(float_c)\n",
    "\n",
    "print(f\"Convert string to int, {str_a}: {type(str_a)} -> {int_a}: {type(int_a)}\")\n",
    "print(f\"Convert string to float, {str_a}: {type(str_a)} -> {float_a}: {type(float_a)}\")\n",
    "print(f\"Convert int to string, {int_b}: {type(int_b)} -> {str_b}: {type(str_b)}\")\n",
    "print(f\"Convert float to string, {float_c}: {type(float_c)} -> {str_c}: {type(str_c)}\")\n"
   ]
  },
  {
   "cell_type": "code",
   "execution_count": 12,
   "id": "51cf187b",
   "metadata": {},
   "outputs": [
    {
     "name": "stdout",
     "output_type": "stream",
     "text": [
      "Concatenated string: Helo World!\n"
     ]
    }
   ],
   "source": [
    "# 6. Concatenate two strings and print.\n",
    "str1 = \"Helo\"\n",
    "str2 = \" World!\"\n",
    "\n",
    "concatenate_str = str1 + str2\n",
    "\n",
    "print(f\"Concatenated string: {concatenate_str}\")"
   ]
  },
  {
   "cell_type": "code",
   "execution_count": 14,
   "id": "fe2fe5b3",
   "metadata": {},
   "outputs": [
    {
     "name": "stdout",
     "output_type": "stream",
     "text": [
      "Length of string 'Hello' is 5\n"
     ]
    }
   ],
   "source": [
    "# 7. Find the length of a string using len().\n",
    "str_a = \"Hello\"\n",
    "str_a_len = len(str_a)\n",
    "\n",
    "print(f\"Length of string '{str_a}' is {str_a_len}\")"
   ]
  },
  {
   "cell_type": "code",
   "execution_count": 15,
   "id": "4097afdf",
   "metadata": {},
   "outputs": [
    {
     "name": "stdout",
     "output_type": "stream",
     "text": [
      "Your name is Nam, your age is 18\n"
     ]
    }
   ],
   "source": [
    "# 8. Use input() to read name, age, and print a message.\n",
    "name = input(\"Input name: \")\n",
    "age = input(\"Input age: \")\n",
    "\n",
    "print(f\"Your name is {name}, your age is {age}\")"
   ]
  },
  {
   "cell_type": "code",
   "execution_count": 16,
   "id": "91f67733",
   "metadata": {},
   "outputs": [
    {
     "name": "stdout",
     "output_type": "stream",
     "text": [
      "Round float 2.9944 to 2 decimal places is: 2.99\n"
     ]
    }
   ],
   "source": [
    "# 9. Round a float to 2 decimal places.\n",
    "float_a = 2.9944\n",
    "\n",
    "print(f\"Round float {float_a} to 2 decimal places is: {float_a:.2f}\")"
   ]
  },
  {
   "cell_type": "code",
   "execution_count": 18,
   "id": "c92a2159",
   "metadata": {},
   "outputs": [
    {
     "data": {
      "text/plain": [
       "38.08"
      ]
     },
     "execution_count": 18,
     "metadata": {},
     "output_type": "execute_result"
    }
   ],
   "source": [
    "# 10. Write a program that calculates the area of a rectangle.\n",
    "def cal_rect_area(width, length) -> float:\n",
    "    \"\"\"This program calculate area of a rectangle\n",
    "\n",
    "    Args:\n",
    "        width (float): width of rectangle\n",
    "        height (float): height of rectangle\n",
    "    \n",
    "    Return:\n",
    "        area (float)\n",
    "    \"\"\"\n",
    "    return width*length\n",
    "\n",
    "cal_rect_area(5.6, 6.8)"
   ]
  },
  {
   "cell_type": "code",
   "execution_count": null,
   "id": "117f257c",
   "metadata": {},
   "outputs": [],
   "source": []
  }
 ],
 "metadata": {
  "kernelspec": {
   "display_name": ".venv",
   "language": "python",
   "name": "python3"
  },
  "language_info": {
   "codemirror_mode": {
    "name": "ipython",
    "version": 3
   },
   "file_extension": ".py",
   "mimetype": "text/x-python",
   "name": "python",
   "nbconvert_exporter": "python",
   "pygments_lexer": "ipython3",
   "version": "3.11.0"
  }
 },
 "nbformat": 4,
 "nbformat_minor": 5
}
