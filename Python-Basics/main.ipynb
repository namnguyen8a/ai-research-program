{
 "cells": [
  {
   "cell_type": "markdown",
   "id": "2ea4469b",
   "metadata": {},
   "source": [
    "# Variable & Data Types (1-10)"
   ]
  },
  {
   "cell_type": "code",
   "execution_count": 2,
   "id": "5ceb6d7d",
   "metadata": {},
   "outputs": [
    {
     "name": "stdout",
     "output_type": "stream",
     "text": [
      "Integer variable: 1\n",
      "Float variable: 1.0\n",
      "String variable: python\n",
      "Boolean variable: True\n"
     ]
    }
   ],
   "source": [
    "# 1. Write a program to assign and print different data types.\n",
    "\n",
    "int_variable = 1\n",
    "float_variable = 1.0\n",
    "string_variable = \"python\"\n",
    "bool_variable = True\n",
    "\n",
    "print(f\"Integer variable: {int_variable}\")\n",
    "print(f\"Float variable: {float_variable}\")\n",
    "print(f\"String variable: {string_variable}\")\n",
    "print(f\"Boolean variable: {bool_variable}\")"
   ]
  },
  {
   "cell_type": "code",
   "execution_count": null,
   "id": "eabfc6df",
   "metadata": {},
   "outputs": [
    {
     "name": "stdout",
     "output_type": "stream",
     "text": [
      "Before swap, a = 2, b = 3\n",
      "After swap: a = 3, b = 2\n"
     ]
    }
   ],
   "source": [
    "# 2. Swap two variables without using a third variable.\n",
    "\n",
    "a = 2\n",
    "b = 3\n",
    "\n",
    "print(f\"Before swap: a = {a}, b = {b}\")\n",
    "\n",
    "a, b = b, a\n",
    "\n",
    "print(f\"After swap: a = {a}, b = {b}\")\n"
   ]
  },
  {
   "cell_type": "code",
   "execution_count": 6,
   "id": "fd3d89ac",
   "metadata": {},
   "outputs": [
    {
     "name": "stdout",
     "output_type": "stream",
     "text": [
      "Data type of variable a using type() is: <class 'str'>\n"
     ]
    }
   ],
   "source": [
    "# 3. Check the data type of a variable using type().\n",
    "\n",
    "a = \"hello\"\n",
    "type_var_a = type(a)\n",
    "\n",
    "print(f\"Data type of variable a using type() is: {type_var_a}\")"
   ]
  },
  {
   "cell_type": "code",
   "execution_count": 7,
   "id": "4d6d8a10",
   "metadata": {},
   "outputs": [
    {
     "name": "stdout",
     "output_type": "stream",
     "text": [
      "Hey\n"
     ]
    }
   ],
   "source": [
    "# 4. Take input from the user and print it.\n",
    "\n",
    "user_input = input(\"Input something: \")\n",
    "print(user_input)"
   ]
  },
  {
   "cell_type": "code",
   "execution_count": 10,
   "id": "eb3324ff",
   "metadata": {},
   "outputs": [
    {
     "name": "stdout",
     "output_type": "stream",
     "text": [
      "Convert string to int, 2: <class 'str'> -> 2: <class 'int'>\n",
      "Convert string to float, 2: <class 'str'> -> 2.0: <class 'float'>\n",
      "Convert int to string, 2: <class 'int'> -> 2: <class 'str'>\n",
      "Convert float to string, 2.0: <class 'float'> -> 2.0: <class 'str'>\n"
     ]
    }
   ],
   "source": [
    "# 5. Convert string to int, float and back.\n",
    "str_a = \"2\"\n",
    "int_b = 2\n",
    "float_c = 2.0\n",
    "\n",
    "int_a = int(str_a)\n",
    "float_a = float(str_a)\n",
    "str_b = str(int_b)\n",
    "str_c = str(float_c)\n",
    "\n",
    "print(f\"Convert string to int, {str_a}: {type(str_a)} -> {int_a}: {type(int_a)}\")\n",
    "print(f\"Convert string to float, {str_a}: {type(str_a)} -> {float_a}: {type(float_a)}\")\n",
    "print(f\"Convert int to string, {int_b}: {type(int_b)} -> {str_b}: {type(str_b)}\")\n",
    "print(f\"Convert float to string, {float_c}: {type(float_c)} -> {str_c}: {type(str_c)}\")\n"
   ]
  },
  {
   "cell_type": "code",
   "execution_count": 12,
   "id": "51cf187b",
   "metadata": {},
   "outputs": [
    {
     "name": "stdout",
     "output_type": "stream",
     "text": [
      "Concatenated string: Helo World!\n"
     ]
    }
   ],
   "source": [
    "# 6. Concatenate two strings and print.\n",
    "str1 = \"Helo\"\n",
    "str2 = \" World!\"\n",
    "\n",
    "concatenate_str = str1 + str2\n",
    "\n",
    "print(f\"Concatenated string: {concatenate_str}\")"
   ]
  },
  {
   "cell_type": "code",
   "execution_count": 14,
   "id": "fe2fe5b3",
   "metadata": {},
   "outputs": [
    {
     "name": "stdout",
     "output_type": "stream",
     "text": [
      "Length of string 'Hello' is 5\n"
     ]
    }
   ],
   "source": [
    "# 7. Find the length of a string using len().\n",
    "str_a = \"Hello\"\n",
    "str_a_len = len(str_a)\n",
    "\n",
    "print(f\"Length of string '{str_a}' is {str_a_len}\")"
   ]
  },
  {
   "cell_type": "code",
   "execution_count": 15,
   "id": "4097afdf",
   "metadata": {},
   "outputs": [
    {
     "name": "stdout",
     "output_type": "stream",
     "text": [
      "Your name is Nam, your age is 18\n"
     ]
    }
   ],
   "source": [
    "# 8. Use input() to read name, age, and print a message.\n",
    "name = input(\"Input name: \")\n",
    "age = input(\"Input age: \")\n",
    "\n",
    "print(f\"Your name is {name}, your age is {age}\")"
   ]
  },
  {
   "cell_type": "code",
   "execution_count": 16,
   "id": "91f67733",
   "metadata": {},
   "outputs": [
    {
     "name": "stdout",
     "output_type": "stream",
     "text": [
      "Round float 2.9944 to 2 decimal places is: 2.99\n"
     ]
    }
   ],
   "source": [
    "# 9. Round a float to 2 decimal places.\n",
    "float_a = 2.9944\n",
    "\n",
    "print(f\"Round float {float_a} to 2 decimal places is: {float_a:.2f}\")"
   ]
  },
  {
   "cell_type": "code",
   "execution_count": 20,
   "id": "c92a2159",
   "metadata": {},
   "outputs": [
    {
     "data": {
      "text/plain": [
       "38.08"
      ]
     },
     "execution_count": 20,
     "metadata": {},
     "output_type": "execute_result"
    }
   ],
   "source": [
    "# 10. Write a program that calculates the area of a rectangle.\n",
    "def calculate_rectangle_area(width: float, length: float) -> float:\n",
    "    \"\"\"This program calculate area of a rectangle\n",
    "\n",
    "    Args:\n",
    "        width (float): width of rectangle\n",
    "        height (float): height of rectangle\n",
    "    \n",
    "    Return:\n",
    "        area (float)\n",
    "    \"\"\"\n",
    "    return width*length\n",
    "\n",
    "calculate_rectangle_area(5.6, 6.8)"
   ]
  },
  {
   "cell_type": "markdown",
   "id": "831e01b5",
   "metadata": {},
   "source": [
    "# Conditionals & Loops (11–20)"
   ]
  },
  {
   "cell_type": "code",
   "execution_count": null,
   "id": "117f257c",
   "metadata": {},
   "outputs": [
    {
     "name": "stdout",
     "output_type": "stream",
     "text": [
      "Odd number\n",
      "Even number\n"
     ]
    }
   ],
   "source": [
    "# 11. Write a program to check if a number is even or odd.\n",
    "\"\"\"\n",
    "Intuitive thoughs:\n",
    "\n",
    "If a number is even it should divisible by 2 (% 2 == 0),\n",
    "and if it is odd it shouldn't divisible by 2 (%2 != 0)\n",
    "\"\"\"\n",
    "\n",
    "def check_number(number: int) -> str:\n",
    "    \"\"\"Check the number even or odd\n",
    "\n",
    "    Args:\n",
    "        number (int): number needed to check\n",
    "    \n",
    "    Returns:\n",
    "        str: \"Even number\" if the number is even, otherwise \"Odd number\".\n",
    "    \"\"\"\n",
    "\n",
    "    if number % 2 == 0:\n",
    "        return \"Even number\"\n",
    "    return \"Odd number\"\n",
    "\n",
    "print(check_number(5))\n",
    "print(check_number(2))\n"
   ]
  },
  {
   "cell_type": "code",
   "execution_count": null,
   "id": "88eab048",
   "metadata": {},
   "outputs": [
    {
     "name": "stdout",
     "output_type": "stream",
     "text": [
      "Positive\n",
      "Negative\n",
      "Zero\n"
     ]
    }
   ],
   "source": [
    "# 12. Check if a number is positive, negative or zero.\n",
    "\"\"\"\n",
    "Intuitive thoughs:\n",
    "\n",
    "If a number is positive, it should bigger than 0,\n",
    "if it is negative it smaller than 0\n",
    "\"\"\"\n",
    "\n",
    "def check_number2(number: float) -> str:\n",
    "    \"\"\"Check whether the number is positive, negative or zero\n",
    "\n",
    "    Args:\n",
    "        number (float): number needed to check\n",
    "\n",
    "    Returns:\n",
    "        str: \"Positive\" if the number is bigger than 0, \n",
    "        \"Negative\" if the number is smaller than 0,\n",
    "        otherwise \"Zero\"    \n",
    "    \"\"\"\n",
    "\n",
    "    if number > 0:\n",
    "        return \"Positive\"\n",
    "    elif number < 0:\n",
    "        return \"Negative\"\n",
    "    return \"Zero\"\n",
    "\n",
    "print(check_number2(2))\n",
    "print(check_number2(-2))\n",
    "print(check_number2(0))"
   ]
  },
  {
   "cell_type": "code",
   "execution_count": null,
   "id": "c30a1333",
   "metadata": {},
   "outputs": [
    {
     "data": {
      "text/plain": [
       "99"
      ]
     },
     "execution_count": 25,
     "metadata": {},
     "output_type": "execute_result"
    }
   ],
   "source": [
    "# 13. Find the largest of three numbers.\n",
    "\"\"\"\n",
    "Intuitive thoughs:\n",
    "\n",
    "We will using max() built-in function to check the largest number in a list\n",
    "\"\"\"\n",
    "\n",
    "def find_largest_number(nums: list) -> float:\n",
    "    \"\"\"Finding the largest number in a list\n",
    "\n",
    "    Args:\n",
    "        nums (list): list of number\n",
    "    \n",
    "    Returns:\n",
    "        float: The largest number\n",
    "    \"\"\"\n",
    "    largest_num = max(nums)\n",
    "    return largest_num\n",
    "\n",
    "num_lst = [1, 2, 3, 99]\n",
    "find_largest_number(num_lst)"
   ]
  },
  {
   "cell_type": "code",
   "execution_count": null,
   "id": "229517fa",
   "metadata": {},
   "outputs": [
    {
     "name": "stdout",
     "output_type": "stream",
     "text": [
      "5\n",
      "-1\n",
      "6\n",
      "0.6666666666666666\n"
     ]
    }
   ],
   "source": [
    "# 14. Write a simple calculator using if-else.\n",
    "\"\"\"\n",
    "Intuitive thoughs:\n",
    "\n",
    "We will using if, else to check the operator then calculate based on that\n",
    "\"\"\"\n",
    "\n",
    "def simple_calculator(operator: str, num1: float, num2: float) -> float:\n",
    "    \"\"\"Calculate based on operator\n",
    "\n",
    "    Args:\n",
    "        operator (str): operator used for compute (+, -, *, /)\n",
    "        num1 (float): number 1\n",
    "        num2 (float): number 2\n",
    "    \n",
    "    Returns:\n",
    "        float: result based on operator\n",
    "    \"\"\"\n",
    "\n",
    "    if operator == \"+\":\n",
    "        return num1 + num2\n",
    "    elif operator == \"-\":\n",
    "        return num1 - num2\n",
    "    elif operator == \"*\":\n",
    "        return num1 * num2\n",
    "    return num1 / num2\n",
    "\n",
    "num1 = 2\n",
    "num2 = 3\n",
    "\n",
    "print(simple_calculator(\"+\", num1, num2))\n",
    "print(simple_calculator(\"-\", num1, num2))\n",
    "print(simple_calculator(\"*\", num1, num2))\n",
    "print(simple_calculator(\"/\", num1, num2))"
   ]
  },
  {
   "cell_type": "code",
   "execution_count": 30,
   "id": "bf81f9b1",
   "metadata": {},
   "outputs": [
    {
     "name": "stdout",
     "output_type": "stream",
     "text": [
      "1\n",
      "2\n",
      "3\n",
      "4\n",
      "5\n",
      "6\n",
      "7\n",
      "8\n",
      "9\n",
      "10\n",
      "11\n",
      "12\n",
      "13\n",
      "14\n",
      "15\n",
      "16\n",
      "17\n",
      "18\n",
      "19\n",
      "20\n",
      "21\n",
      "22\n",
      "23\n",
      "24\n",
      "25\n",
      "26\n",
      "27\n",
      "28\n",
      "29\n",
      "30\n",
      "31\n",
      "32\n",
      "33\n",
      "34\n",
      "35\n",
      "36\n",
      "37\n",
      "38\n",
      "39\n",
      "40\n",
      "41\n",
      "42\n",
      "43\n",
      "44\n",
      "45\n",
      "46\n",
      "47\n",
      "48\n",
      "49\n",
      "50\n",
      "51\n",
      "52\n",
      "53\n",
      "54\n",
      "55\n",
      "56\n",
      "57\n",
      "58\n",
      "59\n",
      "60\n",
      "61\n",
      "62\n",
      "63\n",
      "64\n",
      "65\n",
      "66\n",
      "67\n",
      "68\n",
      "69\n",
      "70\n",
      "71\n",
      "72\n",
      "73\n",
      "74\n",
      "75\n",
      "76\n",
      "77\n",
      "78\n",
      "79\n",
      "80\n",
      "81\n",
      "82\n",
      "83\n",
      "84\n",
      "85\n",
      "86\n",
      "87\n",
      "88\n",
      "89\n",
      "90\n",
      "91\n",
      "92\n",
      "93\n",
      "94\n",
      "95\n",
      "96\n",
      "97\n",
      "98\n",
      "99\n",
      "100\n"
     ]
    }
   ],
   "source": [
    "# 15. Print all numbers from 1 to 100 using a loop.\n",
    "\"\"\"\n",
    "Intuitive thoughs:\n",
    "\n",
    "We will using for loop to print out numbers because we know the range\n",
    "\"\"\"\n",
    "\n",
    "for number in range(1, 101):\n",
    "    print(number)"
   ]
  },
  {
   "cell_type": "code",
   "execution_count": 31,
   "id": "e8deb0be",
   "metadata": {},
   "outputs": [
    {
     "name": "stdout",
     "output_type": "stream",
     "text": [
      "2\n",
      "4\n",
      "6\n",
      "8\n",
      "10\n",
      "12\n",
      "14\n",
      "16\n",
      "18\n",
      "20\n",
      "22\n",
      "24\n",
      "26\n",
      "28\n",
      "30\n",
      "32\n",
      "34\n",
      "36\n",
      "38\n",
      "40\n",
      "42\n",
      "44\n",
      "46\n",
      "48\n",
      "50\n"
     ]
    }
   ],
   "source": [
    "# 16. Print even numbers between 1 to 50.\n",
    "\"\"\"\n",
    "Intuitive thoughs:\n",
    "\n",
    "- We will using for loop to print out numbers because we know the range\n",
    "- We will check the number is even by check whether it divisible by 2\n",
    "\"\"\"\n",
    "for number in range(1, 51):\n",
    "    if number % 2 == 0:\n",
    "        print(number)"
   ]
  },
  {
   "cell_type": "code",
   "execution_count": 40,
   "id": "2cc6e3fc",
   "metadata": {},
   "outputs": [
    {
     "name": "stdout",
     "output_type": "stream",
     "text": [
      "8 * 1 = 8\n",
      "8 * 2 = 16\n",
      "8 * 3 = 24\n",
      "8 * 4 = 32\n",
      "8 * 5 = 40\n",
      "8 * 6 = 48\n",
      "8 * 7 = 56\n",
      "8 * 8 = 64\n",
      "8 * 9 = 72\n",
      "8 * 10 = 80\n"
     ]
    }
   ],
   "source": [
    "# 17. Print the multiplication table of a number.\n",
    "\"\"\"\n",
    "Intuitive thoughs:\n",
    "\n",
    "- We will using for loop to print out numbers because we know the range\n",
    "because multiplication table will between 1 to 10\n",
    "\"\"\"\n",
    "def multiplication_table(number: int) -> None:\n",
    "    \"\"\"Print multiplication table of a number\n",
    "\n",
    "    Args:\n",
    "        number (int): number needed to print the table of\n",
    "    \n",
    "    Returns:\n",
    "        None\n",
    "    \"\"\"\n",
    "    for i in range(1, 11):\n",
    "        print(f\"{number} * {i} = {number*i}\")\n",
    "    return None\n",
    "\n",
    "multiplication_table(8)"
   ]
  },
  {
   "cell_type": "code",
   "execution_count": 41,
   "id": "0bd3776d",
   "metadata": {},
   "outputs": [
    {
     "data": {
      "text/plain": [
       "15"
      ]
     },
     "execution_count": 41,
     "metadata": {},
     "output_type": "execute_result"
    }
   ],
   "source": [
    "# 18. Sum of all numbers from 1 to n using loop.\n",
    "\"\"\"\n",
    "Intuitive thoughs:\n",
    "\n",
    "- We will using for loop to print out numbers because we know the range\n",
    "- We need a sum variable to add cumulative value from 1 to n\n",
    "\"\"\"\n",
    "\n",
    "def sum_numbers(number: int) -> int:\n",
    "    \"\"\"Calculate cumulative sum of all number from 1 to number\n",
    "\n",
    "    Args:\n",
    "        number (int): number we need to calculate to\n",
    "    \n",
    "    Returns:\n",
    "        total_value (int): total value from 1 to number\n",
    "    \"\"\"\n",
    "\n",
    "    total_value = 0\n",
    "    \n",
    "    for i in range(number+1):\n",
    "        total_value += i\n",
    "\n",
    "    return total_value\n",
    "\n",
    "sum_numbers(5)"
   ]
  },
  {
   "cell_type": "code",
   "execution_count": null,
   "id": "00e41df2",
   "metadata": {},
   "outputs": [
    {
     "data": {
      "text/plain": [
       "5"
      ]
     },
     "execution_count": 45,
     "metadata": {},
     "output_type": "execute_result"
    }
   ],
   "source": [
    "# 19. Count the number of digits in a number.\n",
    "\"\"\"\n",
    "Intuitive thoughs:\n",
    "\n",
    "- We will using for loop to count the digits because we know the range\n",
    "will be the length of number needed to count\n",
    "\"\"\"\n",
    "\n",
    "def count_digits(number: int) -> int:\n",
    "    \"\"\"Count digits of a number\n",
    "\n",
    "    Args:\n",
    "        number (int): number need to count the digits for\n",
    "    \n",
    "    Returns:\n",
    "        int: digits counted number\n",
    "    \"\"\"\n",
    "\n",
    "    digit_count = 0\n",
    "    str_number = str(number)\n",
    "    for _ in str_number:\n",
    "        digit_count += 1\n",
    "\n",
    "    return digit_count\n",
    "\n",
    "count_digits(99999)"
   ]
  },
  {
   "cell_type": "code",
   "execution_count": null,
   "id": "35ba7002",
   "metadata": {},
   "outputs": [
    {
     "data": {
      "text/plain": [
       "120"
      ]
     },
     "execution_count": 48,
     "metadata": {},
     "output_type": "execute_result"
    }
   ],
   "source": [
    "# 20. Find the factorial of a number using a loop.\n",
    "\"\"\"\n",
    "Intuitive thoughs:\n",
    "\n",
    "- We will using for loop to calculate factorial result because we know the range\n",
    "will be from 1 to number itself\n",
    "\"\"\"\n",
    "\n",
    "def calculate_factorial(number: int) -> int:\n",
    "    \"\"\"Calculate factorial of a number\n",
    "\n",
    "    Args:\n",
    "        number (int): number needed to calculate factorial\n",
    "\n",
    "    Returns:\n",
    "        int: factorial result\n",
    "    \"\"\"\n",
    "    \n",
    "    total_result = 1\n",
    "    \n",
    "    for num in range(1, number+1):\n",
    "        total_result *= num\n",
    "    \n",
    "    return total_result\n",
    "\n",
    "calculate_factorial(5)"
   ]
  },
  {
   "cell_type": "code",
   "execution_count": null,
   "id": "c92be5ff",
   "metadata": {},
   "outputs": [],
   "source": []
  }
 ],
 "metadata": {
  "kernelspec": {
   "display_name": ".venv",
   "language": "python",
   "name": "python3"
  },
  "language_info": {
   "codemirror_mode": {
    "name": "ipython",
    "version": 3
   },
   "file_extension": ".py",
   "mimetype": "text/x-python",
   "name": "python",
   "nbconvert_exporter": "python",
   "pygments_lexer": "ipython3",
   "version": "3.11.0"
  }
 },
 "nbformat": 4,
 "nbformat_minor": 5
}
