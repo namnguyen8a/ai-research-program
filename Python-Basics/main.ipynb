{
 "cells": [
  {
   "cell_type": "markdown",
   "id": "2ea4469b",
   "metadata": {},
   "source": [
    "# Variable & Data Types (1-10)"
   ]
  },
  {
   "cell_type": "code",
   "execution_count": 2,
   "id": "5ceb6d7d",
   "metadata": {},
   "outputs": [
    {
     "name": "stdout",
     "output_type": "stream",
     "text": [
      "Integer variable: 1\n",
      "Float variable: 1.0\n",
      "String variable: python\n",
      "Boolean variable: True\n"
     ]
    }
   ],
   "source": [
    "# 1. Write a program to assign and print different data types.\n",
    "\n",
    "int_variable = 1\n",
    "float_variable = 1.0\n",
    "string_variable = \"python\"\n",
    "bool_variable = True\n",
    "\n",
    "print(f\"Integer variable: {int_variable}\")\n",
    "print(f\"Float variable: {float_variable}\")\n",
    "print(f\"String variable: {string_variable}\")\n",
    "print(f\"Boolean variable: {bool_variable}\")"
   ]
  },
  {
   "cell_type": "code",
   "execution_count": null,
   "id": "eabfc6df",
   "metadata": {},
   "outputs": [
    {
     "name": "stdout",
     "output_type": "stream",
     "text": [
      "Before swap, a = 2, b = 3\n",
      "After swap: a = 3, b = 2\n"
     ]
    }
   ],
   "source": [
    "# 2. Swap two variables without using a third variable.\n",
    "\n",
    "a = 2\n",
    "b = 3\n",
    "\n",
    "print(f\"Before swap: a = {a}, b = {b}\")\n",
    "\n",
    "a, b = b, a\n",
    "\n",
    "print(f\"After swap: a = {a}, b = {b}\")\n"
   ]
  },
  {
   "cell_type": "code",
   "execution_count": 6,
   "id": "fd3d89ac",
   "metadata": {},
   "outputs": [
    {
     "name": "stdout",
     "output_type": "stream",
     "text": [
      "Data type of variable a using type() is: <class 'str'>\n"
     ]
    }
   ],
   "source": [
    "# 3. Check the data type of a variable using type().\n",
    "\n",
    "a = \"hello\"\n",
    "type_var_a = type(a)\n",
    "\n",
    "print(f\"Data type of variable a using type() is: {type_var_a}\")"
   ]
  },
  {
   "cell_type": "code",
   "execution_count": 7,
   "id": "4d6d8a10",
   "metadata": {},
   "outputs": [
    {
     "name": "stdout",
     "output_type": "stream",
     "text": [
      "Hey\n"
     ]
    }
   ],
   "source": [
    "# 4. Take input from the user and print it.\n",
    "\n",
    "user_input = input(\"Input something: \")\n",
    "print(user_input)"
   ]
  },
  {
   "cell_type": "code",
   "execution_count": 10,
   "id": "eb3324ff",
   "metadata": {},
   "outputs": [
    {
     "name": "stdout",
     "output_type": "stream",
     "text": [
      "Convert string to int, 2: <class 'str'> -> 2: <class 'int'>\n",
      "Convert string to float, 2: <class 'str'> -> 2.0: <class 'float'>\n",
      "Convert int to string, 2: <class 'int'> -> 2: <class 'str'>\n",
      "Convert float to string, 2.0: <class 'float'> -> 2.0: <class 'str'>\n"
     ]
    }
   ],
   "source": [
    "# 5. Convert string to int, float and back.\n",
    "str_a = \"2\"\n",
    "int_b = 2\n",
    "float_c = 2.0\n",
    "\n",
    "int_a = int(str_a)\n",
    "float_a = float(str_a)\n",
    "str_b = str(int_b)\n",
    "str_c = str(float_c)\n",
    "\n",
    "print(f\"Convert string to int, {str_a}: {type(str_a)} -> {int_a}: {type(int_a)}\")\n",
    "print(f\"Convert string to float, {str_a}: {type(str_a)} -> {float_a}: {type(float_a)}\")\n",
    "print(f\"Convert int to string, {int_b}: {type(int_b)} -> {str_b}: {type(str_b)}\")\n",
    "print(f\"Convert float to string, {float_c}: {type(float_c)} -> {str_c}: {type(str_c)}\")\n"
   ]
  },
  {
   "cell_type": "code",
   "execution_count": 12,
   "id": "51cf187b",
   "metadata": {},
   "outputs": [
    {
     "name": "stdout",
     "output_type": "stream",
     "text": [
      "Concatenated string: Helo World!\n"
     ]
    }
   ],
   "source": [
    "# 6. Concatenate two strings and print.\n",
    "str1 = \"Helo\"\n",
    "str2 = \" World!\"\n",
    "\n",
    "concatenate_str = str1 + str2\n",
    "\n",
    "print(f\"Concatenated string: {concatenate_str}\")"
   ]
  },
  {
   "cell_type": "code",
   "execution_count": 14,
   "id": "fe2fe5b3",
   "metadata": {},
   "outputs": [
    {
     "name": "stdout",
     "output_type": "stream",
     "text": [
      "Length of string 'Hello' is 5\n"
     ]
    }
   ],
   "source": [
    "# 7. Find the length of a string using len().\n",
    "str_a = \"Hello\"\n",
    "str_a_len = len(str_a)\n",
    "\n",
    "print(f\"Length of string '{str_a}' is {str_a_len}\")"
   ]
  },
  {
   "cell_type": "code",
   "execution_count": 15,
   "id": "4097afdf",
   "metadata": {},
   "outputs": [
    {
     "name": "stdout",
     "output_type": "stream",
     "text": [
      "Your name is Nam, your age is 18\n"
     ]
    }
   ],
   "source": [
    "# 8. Use input() to read name, age, and print a message.\n",
    "name = input(\"Input name: \")\n",
    "age = input(\"Input age: \")\n",
    "\n",
    "print(f\"Your name is {name}, your age is {age}\")"
   ]
  },
  {
   "cell_type": "code",
   "execution_count": 16,
   "id": "91f67733",
   "metadata": {},
   "outputs": [
    {
     "name": "stdout",
     "output_type": "stream",
     "text": [
      "Round float 2.9944 to 2 decimal places is: 2.99\n"
     ]
    }
   ],
   "source": [
    "# 9. Round a float to 2 decimal places.\n",
    "float_a = 2.9944\n",
    "\n",
    "print(f\"Round float {float_a} to 2 decimal places is: {float_a:.2f}\")"
   ]
  },
  {
   "cell_type": "code",
   "execution_count": 20,
   "id": "c92a2159",
   "metadata": {},
   "outputs": [
    {
     "data": {
      "text/plain": [
       "38.08"
      ]
     },
     "execution_count": 20,
     "metadata": {},
     "output_type": "execute_result"
    }
   ],
   "source": [
    "# 10. Write a program that calculates the area of a rectangle.\n",
    "def calculate_rectangle_area(width: float, length: float) -> float:\n",
    "    \"\"\"This program calculate area of a rectangle\n",
    "\n",
    "    Args:\n",
    "        width (float): width of rectangle\n",
    "        height (float): height of rectangle\n",
    "    \n",
    "    Return:\n",
    "        area (float)\n",
    "    \"\"\"\n",
    "    return width*length\n",
    "\n",
    "calculate_rectangle_area(5.6, 6.8)"
   ]
  },
  {
   "cell_type": "markdown",
   "id": "831e01b5",
   "metadata": {},
   "source": [
    "# Conditionals & Loops (11–20)"
   ]
  },
  {
   "cell_type": "code",
   "execution_count": null,
   "id": "117f257c",
   "metadata": {},
   "outputs": [
    {
     "name": "stdout",
     "output_type": "stream",
     "text": [
      "Odd number\n",
      "Even number\n"
     ]
    }
   ],
   "source": [
    "# 11. Write a program to check if a number is even or odd.\n",
    "\"\"\"\n",
    "Intuitive thoughs:\n",
    "\n",
    "If a number is even it should divisible by 2 (% 2 == 0),\n",
    "and if it is odd it shouldn't divisible by 2 (%2 != 0)\n",
    "\"\"\"\n",
    "\n",
    "def check_number(number: int) -> str:\n",
    "    \"\"\"Check the number even or odd\n",
    "\n",
    "    Args:\n",
    "        number (int): number needed to check\n",
    "    \n",
    "    Returns:\n",
    "        str: \"Even number\" if the number is even, otherwise \"Odd number\".\n",
    "    \"\"\"\n",
    "\n",
    "    if number % 2 == 0:\n",
    "        return \"Even number\"\n",
    "    return \"Odd number\"\n",
    "\n",
    "print(check_number(5))\n",
    "print(check_number(2))\n"
   ]
  },
  {
   "cell_type": "code",
   "execution_count": null,
   "id": "88eab048",
   "metadata": {},
   "outputs": [
    {
     "name": "stdout",
     "output_type": "stream",
     "text": [
      "Positive\n",
      "Negative\n",
      "Zero\n"
     ]
    }
   ],
   "source": [
    "# 12. Check if a number is positive, negative or zero.\n",
    "\"\"\"\n",
    "Intuitive thoughs:\n",
    "\n",
    "If a number is positive, it should bigger than 0,\n",
    "if it is negative it smaller than 0\n",
    "\"\"\"\n",
    "\n",
    "def check_number2(number: float) -> str:\n",
    "    \"\"\"Check whether the number is positive, negative or zero\n",
    "\n",
    "    Args:\n",
    "        number (float): number needed to check\n",
    "\n",
    "    Returns:\n",
    "        str: \"Positive\" if the number is bigger than 0, \n",
    "        \"Negative\" if the number is smaller than 0,\n",
    "        otherwise \"Zero\"    \n",
    "    \"\"\"\n",
    "\n",
    "    if number > 0:\n",
    "        return \"Positive\"\n",
    "    elif number < 0:\n",
    "        return \"Negative\"\n",
    "    return \"Zero\"\n",
    "\n",
    "print(check_number2(2))\n",
    "print(check_number2(-2))\n",
    "print(check_number2(0))"
   ]
  },
  {
   "cell_type": "code",
   "execution_count": null,
   "id": "c30a1333",
   "metadata": {},
   "outputs": [
    {
     "data": {
      "text/plain": [
       "99"
      ]
     },
     "execution_count": 25,
     "metadata": {},
     "output_type": "execute_result"
    }
   ],
   "source": [
    "# 13. Find the largest of three numbers.\n",
    "\"\"\"\n",
    "Intuitive thoughs:\n",
    "\n",
    "We will using max() built-in function to check the largest number in a list\n",
    "\"\"\"\n",
    "\n",
    "def find_largest_number(nums: list) -> float:\n",
    "    \"\"\"Finding the largest number in a list\n",
    "\n",
    "    Args:\n",
    "        nums (list): list of number\n",
    "    \n",
    "    Returns:\n",
    "        float: The largest number\n",
    "    \"\"\"\n",
    "    largest_num = max(nums)\n",
    "    return largest_num\n",
    "\n",
    "num_lst = [1, 2, 3, 99]\n",
    "find_largest_number(num_lst)"
   ]
  },
  {
   "cell_type": "code",
   "execution_count": null,
   "id": "229517fa",
   "metadata": {},
   "outputs": [
    {
     "name": "stdout",
     "output_type": "stream",
     "text": [
      "5\n",
      "-1\n",
      "6\n",
      "0.6666666666666666\n"
     ]
    }
   ],
   "source": [
    "# 14. Write a simple calculator using if-else.\n",
    "\"\"\"\n",
    "Intuitive thoughs:\n",
    "\n",
    "We will using if, else to check the operator then calculate based on that\n",
    "\"\"\"\n",
    "\n",
    "def simple_calculator(operator: str, num1: float, num2: float) -> float:\n",
    "    \"\"\"Calculate based on operator\n",
    "\n",
    "    Args:\n",
    "        operator (str): operator used for compute (+, -, *, /)\n",
    "        num1 (float): number 1\n",
    "        num2 (float): number 2\n",
    "    \n",
    "    Returns:\n",
    "        float: result based on operator\n",
    "    \"\"\"\n",
    "\n",
    "    if operator == \"+\":\n",
    "        return num1 + num2\n",
    "    elif operator == \"-\":\n",
    "        return num1 - num2\n",
    "    elif operator == \"*\":\n",
    "        return num1 * num2\n",
    "    return num1 / num2\n",
    "\n",
    "num1 = 2\n",
    "num2 = 3\n",
    "\n",
    "print(simple_calculator(\"+\", num1, num2))\n",
    "print(simple_calculator(\"-\", num1, num2))\n",
    "print(simple_calculator(\"*\", num1, num2))\n",
    "print(simple_calculator(\"/\", num1, num2))"
   ]
  },
  {
   "cell_type": "code",
   "execution_count": 30,
   "id": "bf81f9b1",
   "metadata": {},
   "outputs": [
    {
     "name": "stdout",
     "output_type": "stream",
     "text": [
      "1\n",
      "2\n",
      "3\n",
      "4\n",
      "5\n",
      "6\n",
      "7\n",
      "8\n",
      "9\n",
      "10\n",
      "11\n",
      "12\n",
      "13\n",
      "14\n",
      "15\n",
      "16\n",
      "17\n",
      "18\n",
      "19\n",
      "20\n",
      "21\n",
      "22\n",
      "23\n",
      "24\n",
      "25\n",
      "26\n",
      "27\n",
      "28\n",
      "29\n",
      "30\n",
      "31\n",
      "32\n",
      "33\n",
      "34\n",
      "35\n",
      "36\n",
      "37\n",
      "38\n",
      "39\n",
      "40\n",
      "41\n",
      "42\n",
      "43\n",
      "44\n",
      "45\n",
      "46\n",
      "47\n",
      "48\n",
      "49\n",
      "50\n",
      "51\n",
      "52\n",
      "53\n",
      "54\n",
      "55\n",
      "56\n",
      "57\n",
      "58\n",
      "59\n",
      "60\n",
      "61\n",
      "62\n",
      "63\n",
      "64\n",
      "65\n",
      "66\n",
      "67\n",
      "68\n",
      "69\n",
      "70\n",
      "71\n",
      "72\n",
      "73\n",
      "74\n",
      "75\n",
      "76\n",
      "77\n",
      "78\n",
      "79\n",
      "80\n",
      "81\n",
      "82\n",
      "83\n",
      "84\n",
      "85\n",
      "86\n",
      "87\n",
      "88\n",
      "89\n",
      "90\n",
      "91\n",
      "92\n",
      "93\n",
      "94\n",
      "95\n",
      "96\n",
      "97\n",
      "98\n",
      "99\n",
      "100\n"
     ]
    }
   ],
   "source": [
    "# 15. Print all numbers from 1 to 100 using a loop.\n",
    "\"\"\"\n",
    "Intuitive thoughs:\n",
    "\n",
    "We will using for loop to print out numbers because we know the range\n",
    "\"\"\"\n",
    "\n",
    "for number in range(1, 101):\n",
    "    print(number)"
   ]
  },
  {
   "cell_type": "code",
   "execution_count": 31,
   "id": "e8deb0be",
   "metadata": {},
   "outputs": [
    {
     "name": "stdout",
     "output_type": "stream",
     "text": [
      "2\n",
      "4\n",
      "6\n",
      "8\n",
      "10\n",
      "12\n",
      "14\n",
      "16\n",
      "18\n",
      "20\n",
      "22\n",
      "24\n",
      "26\n",
      "28\n",
      "30\n",
      "32\n",
      "34\n",
      "36\n",
      "38\n",
      "40\n",
      "42\n",
      "44\n",
      "46\n",
      "48\n",
      "50\n"
     ]
    }
   ],
   "source": [
    "# 16. Print even numbers between 1 to 50.\n",
    "\"\"\"\n",
    "Intuitive thoughs:\n",
    "\n",
    "- We will using for loop to print out numbers because we know the range\n",
    "- We will check the number is even by check whether it divisible by 2\n",
    "\"\"\"\n",
    "for number in range(1, 51):\n",
    "    if number % 2 == 0:\n",
    "        print(number)"
   ]
  },
  {
   "cell_type": "code",
   "execution_count": 40,
   "id": "2cc6e3fc",
   "metadata": {},
   "outputs": [
    {
     "name": "stdout",
     "output_type": "stream",
     "text": [
      "8 * 1 = 8\n",
      "8 * 2 = 16\n",
      "8 * 3 = 24\n",
      "8 * 4 = 32\n",
      "8 * 5 = 40\n",
      "8 * 6 = 48\n",
      "8 * 7 = 56\n",
      "8 * 8 = 64\n",
      "8 * 9 = 72\n",
      "8 * 10 = 80\n"
     ]
    }
   ],
   "source": [
    "# 17. Print the multiplication table of a number.\n",
    "\"\"\"\n",
    "Intuitive thoughs:\n",
    "\n",
    "- We will using for loop to print out numbers because we know the range\n",
    "because multiplication table will between 1 to 10\n",
    "\"\"\"\n",
    "def multiplication_table(number: int) -> None:\n",
    "    \"\"\"Print multiplication table of a number\n",
    "\n",
    "    Args:\n",
    "        number (int): number needed to print the table of\n",
    "    \n",
    "    Returns:\n",
    "        None\n",
    "    \"\"\"\n",
    "    for i in range(1, 11):\n",
    "        print(f\"{number} * {i} = {number*i}\")\n",
    "    return None\n",
    "\n",
    "multiplication_table(8)"
   ]
  },
  {
   "cell_type": "code",
   "execution_count": 41,
   "id": "0bd3776d",
   "metadata": {},
   "outputs": [
    {
     "data": {
      "text/plain": [
       "15"
      ]
     },
     "execution_count": 41,
     "metadata": {},
     "output_type": "execute_result"
    }
   ],
   "source": [
    "# 18. Sum of all numbers from 1 to n using loop.\n",
    "\"\"\"\n",
    "Intuitive thoughs:\n",
    "\n",
    "- We will using for loop to print out numbers because we know the range\n",
    "- We need a sum variable to add cumulative value from 1 to n\n",
    "\"\"\"\n",
    "\n",
    "def sum_numbers(number: int) -> int:\n",
    "    \"\"\"Calculate cumulative sum of all number from 1 to number\n",
    "\n",
    "    Args:\n",
    "        number (int): number we need to calculate to\n",
    "    \n",
    "    Returns:\n",
    "        total_value (int): total value from 1 to number\n",
    "    \"\"\"\n",
    "\n",
    "    total_value = 0\n",
    "    \n",
    "    for i in range(number+1):\n",
    "        total_value += i\n",
    "\n",
    "    return total_value\n",
    "\n",
    "sum_numbers(5)"
   ]
  },
  {
   "cell_type": "code",
   "execution_count": null,
   "id": "00e41df2",
   "metadata": {},
   "outputs": [
    {
     "data": {
      "text/plain": [
       "5"
      ]
     },
     "execution_count": 45,
     "metadata": {},
     "output_type": "execute_result"
    }
   ],
   "source": [
    "# 19. Count the number of digits in a number.\n",
    "\"\"\"\n",
    "Intuitive thoughs:\n",
    "\n",
    "- We will using for loop to count the digits because we know the range\n",
    "will be the length of number needed to count\n",
    "\"\"\"\n",
    "\n",
    "def count_digits(number: int) -> int:\n",
    "    \"\"\"Count digits of a number\n",
    "\n",
    "    Args:\n",
    "        number (int): number need to count the digits for\n",
    "    \n",
    "    Returns:\n",
    "        int: digits counted number\n",
    "    \"\"\"\n",
    "\n",
    "    digit_count = 0\n",
    "    str_number = str(number)\n",
    "    for _ in str_number:\n",
    "        digit_count += 1\n",
    "\n",
    "    return digit_count\n",
    "\n",
    "count_digits(99999)"
   ]
  },
  {
   "cell_type": "code",
   "execution_count": null,
   "id": "35ba7002",
   "metadata": {},
   "outputs": [
    {
     "data": {
      "text/plain": [
       "120"
      ]
     },
     "execution_count": 48,
     "metadata": {},
     "output_type": "execute_result"
    }
   ],
   "source": [
    "# 20. Find the factorial of a number using a loop.\n",
    "\"\"\"\n",
    "Intuitive thoughs:\n",
    "\n",
    "- We will using for loop to calculate factorial result because we know the range\n",
    "will be from 1 to number itself\n",
    "\"\"\"\n",
    "\n",
    "def calculate_factorial(number: int) -> int:\n",
    "    \"\"\"Calculate factorial of a number\n",
    "\n",
    "    Args:\n",
    "        number (int): number needed to calculate factorial\n",
    "\n",
    "    Returns:\n",
    "        int: factorial result\n",
    "    \"\"\"\n",
    "    \n",
    "    total_result = 1\n",
    "    \n",
    "    for num in range(1, number+1):\n",
    "        total_result *= num\n",
    "    \n",
    "    return total_result\n",
    "\n",
    "calculate_factorial(5)"
   ]
  },
  {
   "cell_type": "markdown",
   "id": "7ea6394a",
   "metadata": {},
   "source": [
    "# Functions & Scope (21–30)"
   ]
  },
  {
   "cell_type": "code",
   "execution_count": 58,
   "id": "c92be5ff",
   "metadata": {},
   "outputs": [
    {
     "data": {
      "text/plain": [
       "'Prime'"
      ]
     },
     "execution_count": 58,
     "metadata": {},
     "output_type": "execute_result"
    }
   ],
   "source": [
    "# 21. Write a function to check if a number is prime\n",
    "\"\"\"\n",
    "- Prime number is number that divisible by 1 and itself\n",
    "(and it must bigger than 1)\n",
    "- We need to using for loop to check in range 1 to number itself\n",
    "to check for all the number between whether it divisible or not\n",
    "if it is -> not prime\n",
    "\"\"\"\n",
    "\n",
    "def check_prime(number: int) -> str:\n",
    "    \"\"\"Check the number is prime or not\n",
    "\n",
    "    Args:\n",
    "        number (int): number needed to check\n",
    "\n",
    "    Return:\n",
    "       str: \"Prime\" if number is prime number,\n",
    "       otherwise \"Not Prime\" \n",
    "    \"\"\"\n",
    "\n",
    "    if number <= 1:\n",
    "        return \"Not Prime\"\n",
    "    \n",
    "    for num in range(2, number):\n",
    "        if number % num == 0:\n",
    "            return \"Not Prime\"\n",
    "    return \"Prime\"\n",
    "\n",
    "check_prime(17)\n"
   ]
  },
  {
   "cell_type": "code",
   "execution_count": 61,
   "id": "84aa40c1",
   "metadata": {},
   "outputs": [
    {
     "data": {
      "text/plain": [
       "25"
      ]
     },
     "execution_count": 61,
     "metadata": {},
     "output_type": "execute_result"
    }
   ],
   "source": [
    "# 22. Function to return the square of a number.\n",
    "\"\"\"\n",
    "- We just need to write a function that input a number and return\n",
    "square of it using '**'\n",
    "\"\"\"\n",
    "\n",
    "def square_number(number: int) -> int:\n",
    "    \"\"\"Square a number\n",
    "    \n",
    "    Args:\n",
    "        number (int): number needed to square\n",
    "    \n",
    "    Returns:\n",
    "        int: squared number\n",
    "    \"\"\"\n",
    "\n",
    "    return number**2\n",
    "\n",
    "square_number(5)"
   ]
  },
  {
   "cell_type": "code",
   "execution_count": 65,
   "id": "5a0aa191",
   "metadata": {},
   "outputs": [
    {
     "data": {
      "text/plain": [
       "True"
      ]
     },
     "execution_count": 65,
     "metadata": {},
     "output_type": "execute_result"
    }
   ],
   "source": [
    "# 23. Write a function to check if a string is a palindrome.\n",
    "\"\"\"\n",
    "- Palindrome string is a string if reversed itself it will be the same\n",
    "as the original one\n",
    "- We need to reversed it using slicing and then check whether\n",
    "the reversed one equal the original one\n",
    "\"\"\"\n",
    "\n",
    "def check_palindrome(word: str) -> bool:\n",
    "    \"\"\"Check whether the string is palindrome or not\n",
    "    \n",
    "    Args:\n",
    "        word (str): word needed to check\n",
    "    \n",
    "    Return:\n",
    "        bool: True if it is palindrome, otherwise False\n",
    "    \"\"\"\n",
    "    \n",
    "    reversed_word = word[::-1]\n",
    "\n",
    "    if reversed_word == word:\n",
    "        return True\n",
    "    return False\n",
    "\n",
    "check_palindrome(\"nan\")"
   ]
  },
  {
   "cell_type": "code",
   "execution_count": null,
   "id": "7bee4290",
   "metadata": {},
   "outputs": [
    {
     "data": {
      "text/plain": [
       "'Hello, Nam'"
      ]
     },
     "execution_count": 66,
     "metadata": {},
     "output_type": "execute_result"
    }
   ],
   "source": [
    "# 24. Define a function with default arguments.\n",
    "\"\"\"\n",
    "- We just need to define default arguments in the function itself\n",
    "\"\"\"\n",
    "def my_function(name=\"Nam\"):\n",
    "    return f\"Hello, {name}\"\n",
    "\n",
    "my_function()"
   ]
  },
  {
   "cell_type": "code",
   "execution_count": 72,
   "id": "eac830ee",
   "metadata": {},
   "outputs": [
    {
     "data": {
      "text/plain": [
       "720"
      ]
     },
     "execution_count": 72,
     "metadata": {},
     "output_type": "execute_result"
    }
   ],
   "source": [
    "# 25. Write a recursive function to compute factorial.\n",
    "\"\"\"\n",
    "- recursive funtion need a base condition so that \n",
    "it will not be infinitive loop\n",
    "- we need to define base condition that the number must > 0\n",
    "\"\"\"\n",
    "\n",
    "def recursive_factorial(number: int) -> int:\n",
    "    \"\"\"Calculate factorial of number using recursion\n",
    "\n",
    "    Args:\n",
    "        number (int): number needed to calculate factorial\n",
    "    \n",
    "    Return:\n",
    "        int: factorial result\n",
    "    \"\"\"\n",
    "    if number > 0:\n",
    "        result = number * recursive_factorial(number-1)\n",
    "    else:\n",
    "        result = 1\n",
    "    return result\n",
    "\n",
    "recursive_factorial(6) "
   ]
  },
  {
   "cell_type": "code",
   "execution_count": 74,
   "id": "5c9b192a",
   "metadata": {},
   "outputs": [
    {
     "data": {
      "text/plain": [
       "15"
      ]
     },
     "execution_count": 74,
     "metadata": {},
     "output_type": "execute_result"
    }
   ],
   "source": [
    "# 26. Create a function to calculate the sum of a list.\n",
    "\"\"\"\n",
    "- We need to use for loop because we know the range will be\n",
    "length of the list\n",
    "- we need to define a total value which will hold the cumulative \n",
    "valur of the number in the list\n",
    "\"\"\"\n",
    "def calculate_sum(number: list) -> int:\n",
    "    \"\"\"Calculate the sum of the list\n",
    "\n",
    "    Args:\n",
    "        number (list): list of number needed to calculate sum\n",
    "    \n",
    "    Returns:\n",
    "        int: sum of the list\n",
    "    \"\"\"\n",
    "\n",
    "    total_value = 0\n",
    "    \n",
    "    for num in number:\n",
    "        total_value += num\n",
    "    return total_value\n",
    "\n",
    "num_lst = [1, 2, 3, 4, 5]\n",
    "calculate_sum(num_lst)"
   ]
  },
  {
   "cell_type": "code",
   "execution_count": 75,
   "id": "37491ca8",
   "metadata": {},
   "outputs": [
    {
     "data": {
      "text/plain": [
       "'maN'"
      ]
     },
     "execution_count": 75,
     "metadata": {},
     "output_type": "execute_result"
    }
   ],
   "source": [
    "# 27. Write a function to reverse a string.\n",
    "\"\"\"\n",
    "- We will use slicing to reverse a string\n",
    "\"\"\"\n",
    "\n",
    "def reverse_string(word: str) -> str:\n",
    "    \"\"\"Reverse a string\n",
    "    \n",
    "    Args:\n",
    "        word (str): word needed to reversed\n",
    "    \n",
    "    Return:\n",
    "        str: string after reverse\n",
    "    \"\"\"\n",
    "    return word[::-1]\n",
    "\n",
    "reverse_string(\"Nam\")"
   ]
  },
  {
   "cell_type": "code",
   "execution_count": null,
   "id": "36e44d39",
   "metadata": {},
   "outputs": [
    {
     "data": {
      "text/plain": [
       "4"
      ]
     },
     "execution_count": 76,
     "metadata": {},
     "output_type": "execute_result"
    }
   ],
   "source": [
    "# 28. Create a function to count vowels in a string.\n",
    "\"\"\"\n",
    "- Vowels is u, e, o, a, i\n",
    "- So we just need to define a count variable which will add 1 \n",
    "every time it is vowels (check using if)\n",
    "\"\"\"\n",
    "def count_vowels(word: str) -> int:\n",
    "    \"\"\"Count vowels in a string\n",
    "\n",
    "    Args:\n",
    "        word (str): word needed to count vowels\n",
    "    \n",
    "    Return:\n",
    "        int: number of vowels\n",
    "    \"\"\"\n",
    "\n",
    "    vowels_lst = ['u', 'e', 'o', 'a', 'i']\n",
    "    vowel_count = 0\n",
    "\n",
    "    for w in word:\n",
    "        if w in vowels_lst:\n",
    "            vowel_count += 1\n",
    "    return vowel_count\n",
    "\n",
    "count_vowels(\"namdeptrai\")\n",
    "    "
   ]
  },
  {
   "cell_type": "code",
   "execution_count": 79,
   "id": "e77937ad",
   "metadata": {},
   "outputs": [
    {
     "name": "stdout",
     "output_type": "stream",
     "text": [
      "Inside function: Hello from the inside\n",
      "Outside function: Hello from the outside\n"
     ]
    }
   ],
   "source": [
    "# 29. Demonstrate the use of global and local variables.\n",
    "\"\"\"\n",
    "- Global variable: define outside the function and can \n",
    "access anywhere in the code\n",
    "- Local variable: define inside the function and can\n",
    "acceess only inside the function itself\n",
    "\"\"\"\n",
    "\n",
    "message = \"Hello from the outside\"\n",
    "\n",
    "def my_function():\n",
    "    message = \"Hello from the inside\"\n",
    "    print(\"Inside function:\", message)\n",
    "    return None\n",
    "\n",
    "my_function()\n",
    "print(\"Outside function:\", message)\n"
   ]
  },
  {
   "cell_type": "code",
   "execution_count": 80,
   "id": "2d16547e",
   "metadata": {},
   "outputs": [
    {
     "data": {
      "text/plain": [
       "10"
      ]
     },
     "execution_count": 80,
     "metadata": {},
     "output_type": "execute_result"
    }
   ],
   "source": [
    "# 30. Define a function that accepts multiple arguments using *args.\n",
    "\"\"\"\n",
    "- *args means the function will accept arbitrary number of argument,\n",
    "which means we don't know how many arguments we need to use, so we\n",
    "use *args\n",
    "\"\"\"\n",
    "\n",
    "def args_func(*args):\n",
    "    return sum(args)\n",
    "\n",
    "args_func(1, 2, 3, 4)"
   ]
  },
  {
   "cell_type": "markdown",
   "id": "b7924525",
   "metadata": {},
   "source": [
    "# Lists, Tuples & Sets (31–40)"
   ]
  },
  {
   "cell_type": "code",
   "execution_count": 87,
   "id": "1b2ac1d9",
   "metadata": {},
   "outputs": [
    {
     "name": "stdout",
     "output_type": "stream",
     "text": [
      "[1, 2, 3, 4, 5]\n",
      "List after append '5': [1, 2, 3, 4, 5, 5]\n",
      "List after insert '3' in index 1: [1, 3, 2, 3, 4, 5, 5]\n",
      "List after delete element in index 0: [3, 2, 3, 4, 5, 5]\n"
     ]
    }
   ],
   "source": [
    "# 31. Create a list and append, insert, delete elements.\n",
    "\"\"\"\n",
    "\"\"\"\n",
    "num_list = [1, 2, 3, 4, 5]\n",
    "print(num_list)\n",
    "\n",
    "num_list.append(5)\n",
    "print(f\"List after append '5': {num_list}\")\n",
    "\n",
    "num_list.insert(1, 3)\n",
    "print(f\"List after insert '3' in index 1: {num_list}\")\n",
    "\n",
    "del num_list[0]\n",
    "print(f\"List after delete element in index 0: {num_list}\")"
   ]
  },
  {
   "cell_type": "code",
   "execution_count": 88,
   "id": "314b6d5e",
   "metadata": {},
   "outputs": [
    {
     "name": "stdout",
     "output_type": "stream",
     "text": [
      "Sort list in ascending order: [-3, 3, 4, 22, 99]\n",
      "Sort list in desceding order: [99, 22, 4, 3, -3]\n"
     ]
    }
   ],
   "source": [
    "# 32. Sort a list in ascending and descending order.\n",
    "\"\"\"\n",
    "- We will using sorted buil-in function to sort the list\n",
    "to avoid it sort in-place\n",
    "\"\"\"\n",
    "lst_num = [3, 22, 4, -3, 99]\n",
    "\n",
    "asc_sort_lst = sorted(lst_num)\n",
    "print(f\"Sort list in ascending order: {asc_sort_lst}\")\n",
    "\n",
    "des_sort_lst = sorted(lst_num, reverse=True)\n",
    "print(f\"Sort list in desceding order: {des_sort_lst}\")\n"
   ]
  },
  {
   "cell_type": "code",
   "execution_count": 89,
   "id": "130f661b",
   "metadata": {},
   "outputs": [
    {
     "name": "stdout",
     "output_type": "stream",
     "text": [
      "Max of above list is: 5\n",
      "Min of above list is: 1\n"
     ]
    }
   ],
   "source": [
    "# 33. Find the max and min of a list.\n",
    "\"\"\"\n",
    "- We will using max(), min() buil-in function to find max and min\n",
    "in a list\n",
    "\"\"\"\n",
    "num_lst = [1, 2, 3, 4, 5]\n",
    "\n",
    "print(f\"Max of above list is: {max(num_lst)}\")\n",
    "print(f\"Min of above list is: {min(num_lst)}\")"
   ]
  },
  {
   "cell_type": "code",
   "execution_count": 92,
   "id": "d945218e",
   "metadata": {},
   "outputs": [
    {
     "data": {
      "text/plain": [
       "3"
      ]
     },
     "execution_count": 92,
     "metadata": {},
     "output_type": "execute_result"
    }
   ],
   "source": [
    "# 34. Count occurrences of an item in a list.\n",
    "\"\"\"\n",
    "- We will define a count variable that adding 1 everytime this \n",
    "item appear in a list\n",
    "\"\"\"\n",
    "item_lst = [1, 'a', 3, 'b', 3, 4, 3]\n",
    "\n",
    "count_variable = 0\n",
    "\n",
    "item_check = 3\n",
    "\n",
    "for item in item_lst:\n",
    "    if item_check == item:\n",
    "        count_variable += 1\n",
    "\n",
    "count_variable"
   ]
  },
  {
   "cell_type": "code",
   "execution_count": 93,
   "id": "5a6e00fd",
   "metadata": {},
   "outputs": [
    {
     "name": "stdout",
     "output_type": "stream",
     "text": [
      "List to tuple: [1, 2, 3, 4, 5]: <class 'list'> -> (1, 2, 3, 4, 5): <class 'tuple'>\n",
      "Tuple to list: (3, 4, 5, 6): <class 'tuple'> -> [3, 4, 5, 6]: <class 'list'>\n"
     ]
    }
   ],
   "source": [
    "# 35. Convert a tuple to list and vice versa\n",
    "\"\"\"\n",
    "- We just need to built-in function tuple() and list() to convert\n",
    "\"\"\"\n",
    "number_lst = [1, 2, 3, 4, 5]\n",
    "tuple_lst = (3, 4, 5, 6)\n",
    "\n",
    "print(f\"List to tuple: {number_lst}: {type(number_lst)} -> {tuple(number_lst)}: {type(tuple(number_lst))}\")\n",
    "print(f\"Tuple to list: {tuple_lst}: {type(tuple_lst)} -> {list(tuple_lst)}: {type(list(tuple_lst))}\")"
   ]
  },
  {
   "cell_type": "code",
   "execution_count": null,
   "id": "2e8e82fa",
   "metadata": {},
   "outputs": [
    {
     "data": {
      "text/plain": [
       "True"
      ]
     },
     "execution_count": 95,
     "metadata": {},
     "output_type": "execute_result"
    }
   ],
   "source": [
    "# 36. Check if an element exists in a list\n",
    "\"\"\"\n",
    "- We will check using 'in', if it in a list the we will print out True,\n",
    "otherwise False\n",
    "\"\"\"\n",
    "num_lst = [3, 4, 5, 6, 99]\n",
    "\n",
    "num_check = 99\n",
    "\n",
    "True if num_check in num_lst else False"
   ]
  },
  {
   "cell_type": "code",
   "execution_count": 96,
   "id": "7427279a",
   "metadata": {},
   "outputs": [
    {
     "name": "stdout",
     "output_type": "stream",
     "text": [
      "List after remove using set(): [1, 2, 2, 2, 3, 4], list before remove: {1, 2, 3, 4}\n"
     ]
    }
   ],
   "source": [
    "# 37. Remove duplicates from a list using set.\n",
    "\"\"\"\n",
    "- Set just contain unique number and its order is random, \n",
    "so we can remove duplicates of a list by turn that list into\n",
    "a set using set() built-in function\n",
    "\"\"\"\n",
    "num_lst = [1, 2, 2, 2, 3, 4]\n",
    "\n",
    "print(f\"List after remove using set(): {num_lst}, list before remove: {set(num_lst)}\")"
   ]
  },
  {
   "cell_type": "code",
   "execution_count": 107,
   "id": "752bdf1b",
   "metadata": {},
   "outputs": [
    {
     "name": "stdout",
     "output_type": "stream",
     "text": [
      "List after merged using '+' operator: [1, 2, 3, 4, 5, 6, 7, 8]\n",
      "List after merged using extend(): [1, 2, 3, 4, 5, 6, 7, 8]\n"
     ]
    }
   ],
   "source": [
    "# 38. Merge two lists into one.\n",
    "\"\"\"\n",
    "- we can merge two lists into one using '+' operators,\n",
    "or we can merge it using extend\n",
    "\"\"\"\n",
    "lst1 = [1, 2, 3, 4]\n",
    "lst2 = [5, 6, 7, 8]\n",
    "\n",
    "print(f\"List after merged using '+' operator: {lst1 + lst2}\")\n",
    "\n",
    "lst1.extend(lst2)\n",
    "print(f\"List after merged using extend(): {lst1}\")"
   ]
  },
  {
   "cell_type": "code",
   "execution_count": null,
   "id": "b8578a59",
   "metadata": {},
   "outputs": [
    {
     "name": "stdout",
     "output_type": "stream",
     "text": [
      "First 3 elements: [1, 2, 3]\n",
      "Last 2 elements: [5, 6]\n"
     ]
    }
   ],
   "source": [
    "# 39. Slice a list (first 3, last 2 elements).\n",
    "\"\"\"\n",
    "- we can slice the last element using negative index incase we don't know \n",
    "the length of a list\n",
    "\"\"\"\n",
    "lst_num = [1, 2, 3, 4, 5, 6]\n",
    "\n",
    "print(f\"First 3 elements: {lst_num[:3]}\")\n",
    "print(f\"Last 2 elements: {lst_num[-2:]}\")"
   ]
  },
  {
   "cell_type": "code",
   "execution_count": 112,
   "id": "3d228cdf",
   "metadata": {},
   "outputs": [
    {
     "name": "stdout",
     "output_type": "stream",
     "text": [
      "Sum of all the element of this list [1, 2, 3, 4, 5] is: 15\n"
     ]
    }
   ],
   "source": [
    "# 40. Write a program to sum all elements in a list.\n",
    "\"\"\"\n",
    "- we will use sum() built-in function to calculate\n",
    "sum of all elements in a list\n",
    "\"\"\"\n",
    "num_lst = [1, 2, 3, 4, 5]\n",
    "print(f\"Sum of all the element of this list {num_lst} is: {sum(num_lst)}\")"
   ]
  },
  {
   "cell_type": "markdown",
   "id": "e25885e1",
   "metadata": {},
   "source": [
    "# Dictionaries & File Handling (41–50)"
   ]
  },
  {
   "cell_type": "code",
   "execution_count": 119,
   "id": "4ab4bdb6",
   "metadata": {},
   "outputs": [
    {
     "data": {
      "text/plain": [
       "{'student_name': 'nam', 'marks': 7}"
      ]
     },
     "execution_count": 119,
     "metadata": {},
     "output_type": "execute_result"
    }
   ],
   "source": [
    "# 41. Create a dictionary with student names and marks.\n",
    "\"\"\"\n",
    "\"\"\"\n",
    "\n",
    "students_dict = {\n",
    "    \"student_name\": \"nam\",\n",
    "    \"marks\": 7\n",
    "}\n",
    "\n",
    "students_dict"
   ]
  },
  {
   "cell_type": "code",
   "execution_count": 120,
   "id": "3182fd34",
   "metadata": {},
   "outputs": [
    {
     "name": "stdout",
     "output_type": "stream",
     "text": [
      "Students dictionary after adding another key, value: {'student_name': 'nam', 'marks': 7, 'gpa': 3.8}\n",
      "Students dictionary after delete 'gpa' key: {'student_name': 'nam', 'marks': 7}\n",
      "Students dictionary after update name: {'student_name': 'John', 'marks': 7}\n"
     ]
    }
   ],
   "source": [
    "# 42. Add, delete, and update dictionary items.\n",
    "\"\"\"\n",
    "\"\"\"\n",
    "students_dict[\"gpa\"] = 3.8\n",
    "print(f\"Students dictionary after adding another key, value: {students_dict}\")\n",
    "\n",
    "del students_dict[\"gpa\"]\n",
    "print(f\"Students dictionary after delete 'gpa' key: {students_dict}\")\n",
    "\n",
    "students_dict[\"student_name\"] = \"John\"\n",
    "print(f\"Students dictionary after update name: {students_dict}\")"
   ]
  },
  {
   "cell_type": "code",
   "execution_count": 123,
   "id": "520cb10f",
   "metadata": {},
   "outputs": [
    {
     "name": "stdout",
     "output_type": "stream",
     "text": [
      "Highest value is 22 with its key is 'val2'\n"
     ]
    }
   ],
   "source": [
    "# 43. Write a program to find the key of the highest value in a dict.\n",
    "\"\"\"\n",
    "- We will using .items() to iterate through key, value pairs in \n",
    "a dictionary\n",
    "- We will define a variable to mark a highest value, this value\n",
    "should be the smallest one so that when we loop through the value in \n",
    "a dictionary it whether a value is bigger it will be assigned to that\n",
    "value\n",
    "\"\"\"\n",
    "sample_dict = {\n",
    "    \"val1\": 1,\n",
    "    \"val2\": 22,\n",
    "    \"val3\": 3\n",
    "}\n",
    "\n",
    "highest_value = -99\n",
    "highest_value_key = \"\"\n",
    "\n",
    "for k, v in sample_dict.items():\n",
    "    if highest_value < v:\n",
    "        highest_value = v\n",
    "        highest_value_key = k\n",
    "\n",
    "print(f\"Highest value is {highest_value} with its key is '{highest_value_key}'\")\n",
    "    \n"
   ]
  },
  {
   "cell_type": "code",
   "execution_count": 124,
   "id": "669dc299",
   "metadata": {},
   "outputs": [
    {
     "name": "stdout",
     "output_type": "stream",
     "text": [
      "Key: val1 - Value: 1\n",
      "Key: val2 - Value: 22\n",
      "Key: val3 - Value: 3\n"
     ]
    }
   ],
   "source": [
    "# 44. Iterate over keys and values of a dictionary.\n",
    "\"\"\"\n",
    "- We will using .items() to iterate through key, value pairs in \n",
    "a dictionary\n",
    "\"\"\"\n",
    "\n",
    "for k, v in sample_dict.items():\n",
    "    print(f\"Key: {k} - Value: {v}\")"
   ]
  },
  {
   "cell_type": "code",
   "execution_count": null,
   "id": "c461fd7b",
   "metadata": {},
   "outputs": [
    {
     "data": {
      "text/plain": [
       "{'nam': 1,\n",
       " 'is': 3,\n",
       " 'the': 1,\n",
       " 'one': 3,\n",
       " 'that': 1,\n",
       " 'will': 1,\n",
       " 'be': 1,\n",
       " 'in': 3,\n",
       " 'this': 1,\n",
       " 'program': 1}"
      ]
     },
     "execution_count": 126,
     "metadata": {},
     "output_type": "execute_result"
    }
   ],
   "source": [
    "# 45. Count word frequency in a string using a dictionary.\n",
    "\"\"\"\n",
    "- We will using dictionary comprehensive to count the word in a string\n",
    "- we will split the string first to extract all the word in a list using .split()\n",
    "\"\"\"\n",
    "\n",
    "word = \"nam is the one that will be in this program in in is is one one\"\n",
    "\n",
    "word_lst = word.split()\n",
    "\n",
    "count_dict = {w:word_lst.count(w) for w in word_lst}\n",
    "count_dict"
   ]
  },
  {
   "cell_type": "code",
   "execution_count": null,
   "id": "c8c1ec96",
   "metadata": {},
   "outputs": [],
   "source": [
    "# 46. Write to a file using open() and write().\n",
    "\"\"\"\n",
    "- We will open a file in write mode using open()\n",
    "- We will use the write() function to add content to the file\n",
    "- Close the file after writing to save changes\n",
    "\"\"\"\n",
    "\n",
    "file = open(\"sample_write.txt\", \"w\")\n",
    "file.write(\"This is a sample text written to the file.\\nWe are learning Python!\")\n",
    "file.close()"
   ]
  },
  {
   "cell_type": "code",
   "execution_count": 128,
   "id": "5f7351f4",
   "metadata": {},
   "outputs": [
    {
     "name": "stdout",
     "output_type": "stream",
     "text": [
      "This is a sample text written to the file.\n",
      "We are learning Python!\n"
     ]
    }
   ],
   "source": [
    "# 47. Read a file and print its contents.\n",
    "\"\"\"\n",
    "- We will open the file in read mode using open()\n",
    "- Then use read() method to get all the contents as a string\n",
    "- Finally, we print out the content\n",
    "\"\"\"\n",
    "\n",
    "file = open(\"sample_write.txt\", \"r\")\n",
    "content = file.read()\n",
    "print(content)\n",
    "file.close()"
   ]
  },
  {
   "cell_type": "code",
   "execution_count": 129,
   "id": "571fa4bb",
   "metadata": {},
   "outputs": [
    {
     "name": "stdout",
     "output_type": "stream",
     "text": [
      "Total lines: 2\n"
     ]
    }
   ],
   "source": [
    "# 48. Count the number of lines in a file.\n",
    "\"\"\"\n",
    "- Open the file in read mode\n",
    "- Use readlines() to get all lines as a list\n",
    "- Count the number of elements in the list to get total lines\n",
    "\"\"\"\n",
    "\n",
    "file = open(\"sample_write.txt\", \"r\")\n",
    "lines = file.readlines()\n",
    "line_count = len(lines)\n",
    "print(\"Total lines:\", line_count)\n",
    "file.close()"
   ]
  },
  {
   "cell_type": "code",
   "execution_count": 130,
   "id": "425cf776",
   "metadata": {},
   "outputs": [],
   "source": [
    "# 49. Write a list of strings to a file, one per line.\n",
    "\"\"\"\n",
    "- We will define a list of strings\n",
    "- Open a file in write mode\n",
    "- Loop through the list and write each string followed by newline\n",
    "\"\"\"\n",
    "\n",
    "lines_to_write = [\"Line 1\", \"Line 2\", \"Line 3\", \"Final Line\"]\n",
    "file = open(\"lines.txt\", \"w\")\n",
    "for line in lines_to_write:\n",
    "    file.write(line + \"\\n\")\n",
    "file.close()"
   ]
  },
  {
   "cell_type": "code",
   "execution_count": 131,
   "id": "5d0c1833",
   "metadata": {},
   "outputs": [
    {
     "name": "stdout",
     "output_type": "stream",
     "text": [
      "Student: Alice, Grade: 30\n",
      "Student: Nam, Grade: 40\n",
      "Student: John, Grade:  2\n"
     ]
    }
   ],
   "source": [
    "# 50. Create a program to read student names and grades froma file anddisplaythem.\n",
    "\"\"\"\n",
    "- Assume the file has each student name and grade separated by a comma (e.g., Alice,90)\n",
    "- Open the file and read line by line\n",
    "- Split each line by comma and display name and grade\n",
    "\"\"\"\n",
    "\n",
    "file = open(\"students.txt\", \"r\")\n",
    "for line in file:\n",
    "    name, grade = line.strip().split(\",\")\n",
    "    print(f\"Student: {name}, Grade: {grade}\")\n",
    "file.close()"
   ]
  }
 ],
 "metadata": {
  "kernelspec": {
   "display_name": ".venv",
   "language": "python",
   "name": "python3"
  },
  "language_info": {
   "codemirror_mode": {
    "name": "ipython",
    "version": 3
   },
   "file_extension": ".py",
   "mimetype": "text/x-python",
   "name": "python",
   "nbconvert_exporter": "python",
   "pygments_lexer": "ipython3",
   "version": "3.11.0"
  }
 },
 "nbformat": 4,
 "nbformat_minor": 5
}
